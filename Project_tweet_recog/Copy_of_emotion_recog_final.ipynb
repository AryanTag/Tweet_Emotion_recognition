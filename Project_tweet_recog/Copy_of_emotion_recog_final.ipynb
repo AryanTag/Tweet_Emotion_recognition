{
  "nbformat": 4,
  "nbformat_minor": 0,
  "metadata": {
    "colab": {
      "name": "Copy_of_emotion_recog_final.ipynb",
      "provenance": [],
      "collapsed_sections": []
    },
    "kernelspec": {
      "name": "python3",
      "display_name": "Python 3"
    },
    "language_info": {
      "name": "python"
    },
    "accelerator": "GPU",
    "widgets": {
      "application/vnd.jupyter.widget-state+json": {
        "ec844da696c54eddafa2a180c53aec2a": {
          "model_module": "@jupyter-widgets/controls",
          "model_name": "HBoxModel",
          "state": {
            "_view_name": "HBoxView",
            "_dom_classes": [],
            "_model_name": "HBoxModel",
            "_view_module": "@jupyter-widgets/controls",
            "_model_module_version": "1.5.0",
            "_view_count": null,
            "_view_module_version": "1.5.0",
            "box_style": "",
            "layout": "IPY_MODEL_6296a5aba2bd4485beeb72ecf093d9b4",
            "_model_module": "@jupyter-widgets/controls",
            "children": [
              "IPY_MODEL_27c0444d58c34c489b4f52e03e736dbe",
              "IPY_MODEL_0c44de1104b34c8891107e14b7fe7aef"
            ]
          }
        },
        "6296a5aba2bd4485beeb72ecf093d9b4": {
          "model_module": "@jupyter-widgets/base",
          "model_name": "LayoutModel",
          "state": {
            "_view_name": "LayoutView",
            "grid_template_rows": null,
            "right": null,
            "justify_content": null,
            "_view_module": "@jupyter-widgets/base",
            "overflow": null,
            "_model_module_version": "1.2.0",
            "_view_count": null,
            "flex_flow": null,
            "width": null,
            "min_width": null,
            "border": null,
            "align_items": null,
            "bottom": null,
            "_model_module": "@jupyter-widgets/base",
            "top": null,
            "grid_column": null,
            "overflow_y": null,
            "overflow_x": null,
            "grid_auto_flow": null,
            "grid_area": null,
            "grid_template_columns": null,
            "flex": null,
            "_model_name": "LayoutModel",
            "justify_items": null,
            "grid_row": null,
            "max_height": null,
            "align_content": null,
            "visibility": null,
            "align_self": null,
            "height": null,
            "min_height": null,
            "padding": null,
            "grid_auto_rows": null,
            "grid_gap": null,
            "max_width": null,
            "order": null,
            "_view_module_version": "1.2.0",
            "grid_template_areas": null,
            "object_position": null,
            "object_fit": null,
            "grid_auto_columns": null,
            "margin": null,
            "display": null,
            "left": null
          }
        },
        "27c0444d58c34c489b4f52e03e736dbe": {
          "model_module": "@jupyter-widgets/controls",
          "model_name": "FloatProgressModel",
          "state": {
            "_view_name": "ProgressView",
            "style": "IPY_MODEL_fb3d99cf836144bf9e98f9272735abd8",
            "_dom_classes": [],
            "description": "Downloading: 100%",
            "_model_name": "FloatProgressModel",
            "bar_style": "success",
            "max": 3406,
            "_view_module": "@jupyter-widgets/controls",
            "_model_module_version": "1.5.0",
            "value": 3406,
            "_view_count": null,
            "_view_module_version": "1.5.0",
            "orientation": "horizontal",
            "min": 0,
            "description_tooltip": null,
            "_model_module": "@jupyter-widgets/controls",
            "layout": "IPY_MODEL_4be147ee6e454ed2aa5f0af05db09cda"
          }
        },
        "0c44de1104b34c8891107e14b7fe7aef": {
          "model_module": "@jupyter-widgets/controls",
          "model_name": "HTMLModel",
          "state": {
            "_view_name": "HTMLView",
            "style": "IPY_MODEL_f9f9ac42c7f8426db198b8e7c4af5203",
            "_dom_classes": [],
            "description": "",
            "_model_name": "HTMLModel",
            "placeholder": "​",
            "_view_module": "@jupyter-widgets/controls",
            "_model_module_version": "1.5.0",
            "value": " 3.41k/3.41k [00:00&lt;00:00, 5.27kB/s]",
            "_view_count": null,
            "_view_module_version": "1.5.0",
            "description_tooltip": null,
            "_model_module": "@jupyter-widgets/controls",
            "layout": "IPY_MODEL_bef5337cbdcf4e17bdb67e3d2a7c5ce0"
          }
        },
        "fb3d99cf836144bf9e98f9272735abd8": {
          "model_module": "@jupyter-widgets/controls",
          "model_name": "ProgressStyleModel",
          "state": {
            "_view_name": "StyleView",
            "_model_name": "ProgressStyleModel",
            "description_width": "initial",
            "_view_module": "@jupyter-widgets/base",
            "_model_module_version": "1.5.0",
            "_view_count": null,
            "_view_module_version": "1.2.0",
            "bar_color": null,
            "_model_module": "@jupyter-widgets/controls"
          }
        },
        "4be147ee6e454ed2aa5f0af05db09cda": {
          "model_module": "@jupyter-widgets/base",
          "model_name": "LayoutModel",
          "state": {
            "_view_name": "LayoutView",
            "grid_template_rows": null,
            "right": null,
            "justify_content": null,
            "_view_module": "@jupyter-widgets/base",
            "overflow": null,
            "_model_module_version": "1.2.0",
            "_view_count": null,
            "flex_flow": null,
            "width": null,
            "min_width": null,
            "border": null,
            "align_items": null,
            "bottom": null,
            "_model_module": "@jupyter-widgets/base",
            "top": null,
            "grid_column": null,
            "overflow_y": null,
            "overflow_x": null,
            "grid_auto_flow": null,
            "grid_area": null,
            "grid_template_columns": null,
            "flex": null,
            "_model_name": "LayoutModel",
            "justify_items": null,
            "grid_row": null,
            "max_height": null,
            "align_content": null,
            "visibility": null,
            "align_self": null,
            "height": null,
            "min_height": null,
            "padding": null,
            "grid_auto_rows": null,
            "grid_gap": null,
            "max_width": null,
            "order": null,
            "_view_module_version": "1.2.0",
            "grid_template_areas": null,
            "object_position": null,
            "object_fit": null,
            "grid_auto_columns": null,
            "margin": null,
            "display": null,
            "left": null
          }
        },
        "f9f9ac42c7f8426db198b8e7c4af5203": {
          "model_module": "@jupyter-widgets/controls",
          "model_name": "DescriptionStyleModel",
          "state": {
            "_view_name": "StyleView",
            "_model_name": "DescriptionStyleModel",
            "description_width": "",
            "_view_module": "@jupyter-widgets/base",
            "_model_module_version": "1.5.0",
            "_view_count": null,
            "_view_module_version": "1.2.0",
            "_model_module": "@jupyter-widgets/controls"
          }
        },
        "bef5337cbdcf4e17bdb67e3d2a7c5ce0": {
          "model_module": "@jupyter-widgets/base",
          "model_name": "LayoutModel",
          "state": {
            "_view_name": "LayoutView",
            "grid_template_rows": null,
            "right": null,
            "justify_content": null,
            "_view_module": "@jupyter-widgets/base",
            "overflow": null,
            "_model_module_version": "1.2.0",
            "_view_count": null,
            "flex_flow": null,
            "width": null,
            "min_width": null,
            "border": null,
            "align_items": null,
            "bottom": null,
            "_model_module": "@jupyter-widgets/base",
            "top": null,
            "grid_column": null,
            "overflow_y": null,
            "overflow_x": null,
            "grid_auto_flow": null,
            "grid_area": null,
            "grid_template_columns": null,
            "flex": null,
            "_model_name": "LayoutModel",
            "justify_items": null,
            "grid_row": null,
            "max_height": null,
            "align_content": null,
            "visibility": null,
            "align_self": null,
            "height": null,
            "min_height": null,
            "padding": null,
            "grid_auto_rows": null,
            "grid_gap": null,
            "max_width": null,
            "order": null,
            "_view_module_version": "1.2.0",
            "grid_template_areas": null,
            "object_position": null,
            "object_fit": null,
            "grid_auto_columns": null,
            "margin": null,
            "display": null,
            "left": null
          }
        },
        "da58078ec9654556a7565b476ebef3c3": {
          "model_module": "@jupyter-widgets/controls",
          "model_name": "HBoxModel",
          "state": {
            "_view_name": "HBoxView",
            "_dom_classes": [],
            "_model_name": "HBoxModel",
            "_view_module": "@jupyter-widgets/controls",
            "_model_module_version": "1.5.0",
            "_view_count": null,
            "_view_module_version": "1.5.0",
            "box_style": "",
            "layout": "IPY_MODEL_0d47ef24d1d44682a013494840ca8ae0",
            "_model_module": "@jupyter-widgets/controls",
            "children": [
              "IPY_MODEL_81d4cfb7a30d40d0afe8b49950800ee9",
              "IPY_MODEL_3b9fe6c6e7804195802a2e4d5c415869"
            ]
          }
        },
        "0d47ef24d1d44682a013494840ca8ae0": {
          "model_module": "@jupyter-widgets/base",
          "model_name": "LayoutModel",
          "state": {
            "_view_name": "LayoutView",
            "grid_template_rows": null,
            "right": null,
            "justify_content": null,
            "_view_module": "@jupyter-widgets/base",
            "overflow": null,
            "_model_module_version": "1.2.0",
            "_view_count": null,
            "flex_flow": null,
            "width": null,
            "min_width": null,
            "border": null,
            "align_items": null,
            "bottom": null,
            "_model_module": "@jupyter-widgets/base",
            "top": null,
            "grid_column": null,
            "overflow_y": null,
            "overflow_x": null,
            "grid_auto_flow": null,
            "grid_area": null,
            "grid_template_columns": null,
            "flex": null,
            "_model_name": "LayoutModel",
            "justify_items": null,
            "grid_row": null,
            "max_height": null,
            "align_content": null,
            "visibility": null,
            "align_self": null,
            "height": null,
            "min_height": null,
            "padding": null,
            "grid_auto_rows": null,
            "grid_gap": null,
            "max_width": null,
            "order": null,
            "_view_module_version": "1.2.0",
            "grid_template_areas": null,
            "object_position": null,
            "object_fit": null,
            "grid_auto_columns": null,
            "margin": null,
            "display": null,
            "left": null
          }
        },
        "81d4cfb7a30d40d0afe8b49950800ee9": {
          "model_module": "@jupyter-widgets/controls",
          "model_name": "FloatProgressModel",
          "state": {
            "_view_name": "ProgressView",
            "style": "IPY_MODEL_8e969f4e6da946ae9c7a7ab7e93423c6",
            "_dom_classes": [],
            "description": "Downloading: 100%",
            "_model_name": "FloatProgressModel",
            "bar_style": "success",
            "max": 6011,
            "_view_module": "@jupyter-widgets/controls",
            "_model_module_version": "1.5.0",
            "value": 6011,
            "_view_count": null,
            "_view_module_version": "1.5.0",
            "orientation": "horizontal",
            "min": 0,
            "description_tooltip": null,
            "_model_module": "@jupyter-widgets/controls",
            "layout": "IPY_MODEL_acf10c2b5b024fb5bf3ba041e461d732"
          }
        },
        "3b9fe6c6e7804195802a2e4d5c415869": {
          "model_module": "@jupyter-widgets/controls",
          "model_name": "HTMLModel",
          "state": {
            "_view_name": "HTMLView",
            "style": "IPY_MODEL_4fa312cfa3574381938adcbb5e601a87",
            "_dom_classes": [],
            "description": "",
            "_model_name": "HTMLModel",
            "placeholder": "​",
            "_view_module": "@jupyter-widgets/controls",
            "_model_module_version": "1.5.0",
            "value": " 6.01k/6.01k [00:06&lt;00:00, 876B/s]",
            "_view_count": null,
            "_view_module_version": "1.5.0",
            "description_tooltip": null,
            "_model_module": "@jupyter-widgets/controls",
            "layout": "IPY_MODEL_db3caf74c1d94b1a8041d1af8678e531"
          }
        },
        "8e969f4e6da946ae9c7a7ab7e93423c6": {
          "model_module": "@jupyter-widgets/controls",
          "model_name": "ProgressStyleModel",
          "state": {
            "_view_name": "StyleView",
            "_model_name": "ProgressStyleModel",
            "description_width": "initial",
            "_view_module": "@jupyter-widgets/base",
            "_model_module_version": "1.5.0",
            "_view_count": null,
            "_view_module_version": "1.2.0",
            "bar_color": null,
            "_model_module": "@jupyter-widgets/controls"
          }
        },
        "acf10c2b5b024fb5bf3ba041e461d732": {
          "model_module": "@jupyter-widgets/base",
          "model_name": "LayoutModel",
          "state": {
            "_view_name": "LayoutView",
            "grid_template_rows": null,
            "right": null,
            "justify_content": null,
            "_view_module": "@jupyter-widgets/base",
            "overflow": null,
            "_model_module_version": "1.2.0",
            "_view_count": null,
            "flex_flow": null,
            "width": null,
            "min_width": null,
            "border": null,
            "align_items": null,
            "bottom": null,
            "_model_module": "@jupyter-widgets/base",
            "top": null,
            "grid_column": null,
            "overflow_y": null,
            "overflow_x": null,
            "grid_auto_flow": null,
            "grid_area": null,
            "grid_template_columns": null,
            "flex": null,
            "_model_name": "LayoutModel",
            "justify_items": null,
            "grid_row": null,
            "max_height": null,
            "align_content": null,
            "visibility": null,
            "align_self": null,
            "height": null,
            "min_height": null,
            "padding": null,
            "grid_auto_rows": null,
            "grid_gap": null,
            "max_width": null,
            "order": null,
            "_view_module_version": "1.2.0",
            "grid_template_areas": null,
            "object_position": null,
            "object_fit": null,
            "grid_auto_columns": null,
            "margin": null,
            "display": null,
            "left": null
          }
        },
        "4fa312cfa3574381938adcbb5e601a87": {
          "model_module": "@jupyter-widgets/controls",
          "model_name": "DescriptionStyleModel",
          "state": {
            "_view_name": "StyleView",
            "_model_name": "DescriptionStyleModel",
            "description_width": "",
            "_view_module": "@jupyter-widgets/base",
            "_model_module_version": "1.5.0",
            "_view_count": null,
            "_view_module_version": "1.2.0",
            "_model_module": "@jupyter-widgets/controls"
          }
        },
        "db3caf74c1d94b1a8041d1af8678e531": {
          "model_module": "@jupyter-widgets/base",
          "model_name": "LayoutModel",
          "state": {
            "_view_name": "LayoutView",
            "grid_template_rows": null,
            "right": null,
            "justify_content": null,
            "_view_module": "@jupyter-widgets/base",
            "overflow": null,
            "_model_module_version": "1.2.0",
            "_view_count": null,
            "flex_flow": null,
            "width": null,
            "min_width": null,
            "border": null,
            "align_items": null,
            "bottom": null,
            "_model_module": "@jupyter-widgets/base",
            "top": null,
            "grid_column": null,
            "overflow_y": null,
            "overflow_x": null,
            "grid_auto_flow": null,
            "grid_area": null,
            "grid_template_columns": null,
            "flex": null,
            "_model_name": "LayoutModel",
            "justify_items": null,
            "grid_row": null,
            "max_height": null,
            "align_content": null,
            "visibility": null,
            "align_self": null,
            "height": null,
            "min_height": null,
            "padding": null,
            "grid_auto_rows": null,
            "grid_gap": null,
            "max_width": null,
            "order": null,
            "_view_module_version": "1.2.0",
            "grid_template_areas": null,
            "object_position": null,
            "object_fit": null,
            "grid_auto_columns": null,
            "margin": null,
            "display": null,
            "left": null
          }
        },
        "952f232d062b406d921e4ccda5b6a672": {
          "model_module": "@jupyter-widgets/controls",
          "model_name": "HBoxModel",
          "state": {
            "_view_name": "HBoxView",
            "_dom_classes": [],
            "_model_name": "HBoxModel",
            "_view_module": "@jupyter-widgets/controls",
            "_model_module_version": "1.5.0",
            "_view_count": null,
            "_view_module_version": "1.5.0",
            "box_style": "",
            "layout": "IPY_MODEL_ba612bd3d64a47798d8bad3a5a20765b",
            "_model_module": "@jupyter-widgets/controls",
            "children": [
              "IPY_MODEL_e3b403bf1dfb435ca2a662166103176a",
              "IPY_MODEL_418cb15038e44c989c5a6e59b171758a"
            ]
          }
        },
        "ba612bd3d64a47798d8bad3a5a20765b": {
          "model_module": "@jupyter-widgets/base",
          "model_name": "LayoutModel",
          "state": {
            "_view_name": "LayoutView",
            "grid_template_rows": null,
            "right": null,
            "justify_content": null,
            "_view_module": "@jupyter-widgets/base",
            "overflow": null,
            "_model_module_version": "1.2.0",
            "_view_count": null,
            "flex_flow": null,
            "width": null,
            "min_width": null,
            "border": null,
            "align_items": null,
            "bottom": null,
            "_model_module": "@jupyter-widgets/base",
            "top": null,
            "grid_column": null,
            "overflow_y": null,
            "overflow_x": null,
            "grid_auto_flow": null,
            "grid_area": null,
            "grid_template_columns": null,
            "flex": null,
            "_model_name": "LayoutModel",
            "justify_items": null,
            "grid_row": null,
            "max_height": null,
            "align_content": null,
            "visibility": null,
            "align_self": null,
            "height": null,
            "min_height": null,
            "padding": null,
            "grid_auto_rows": null,
            "grid_gap": null,
            "max_width": null,
            "order": null,
            "_view_module_version": "1.2.0",
            "grid_template_areas": null,
            "object_position": null,
            "object_fit": null,
            "grid_auto_columns": null,
            "margin": null,
            "display": null,
            "left": null
          }
        },
        "e3b403bf1dfb435ca2a662166103176a": {
          "model_module": "@jupyter-widgets/controls",
          "model_name": "FloatProgressModel",
          "state": {
            "_view_name": "ProgressView",
            "style": "IPY_MODEL_ee9e726002fd4c4086b36425f46883a4",
            "_dom_classes": [],
            "description": "Downloading: 100%",
            "_model_name": "FloatProgressModel",
            "bar_style": "success",
            "max": 1658616,
            "_view_module": "@jupyter-widgets/controls",
            "_model_module_version": "1.5.0",
            "value": 1658616,
            "_view_count": null,
            "_view_module_version": "1.5.0",
            "orientation": "horizontal",
            "min": 0,
            "description_tooltip": null,
            "_model_module": "@jupyter-widgets/controls",
            "layout": "IPY_MODEL_f6714f2a05db453c83d7c3b85bba65ac"
          }
        },
        "418cb15038e44c989c5a6e59b171758a": {
          "model_module": "@jupyter-widgets/controls",
          "model_name": "HTMLModel",
          "state": {
            "_view_name": "HTMLView",
            "style": "IPY_MODEL_98e0c0b3a6944e74979f1a2c47d8847e",
            "_dom_classes": [],
            "description": "",
            "_model_name": "HTMLModel",
            "placeholder": "​",
            "_view_module": "@jupyter-widgets/controls",
            "_model_module_version": "1.5.0",
            "value": " 1.66M/1.66M [00:01&lt;00:00, 1.39MB/s]",
            "_view_count": null,
            "_view_module_version": "1.5.0",
            "description_tooltip": null,
            "_model_module": "@jupyter-widgets/controls",
            "layout": "IPY_MODEL_f6dc453dffd441738e4e08c00cbb54fd"
          }
        },
        "ee9e726002fd4c4086b36425f46883a4": {
          "model_module": "@jupyter-widgets/controls",
          "model_name": "ProgressStyleModel",
          "state": {
            "_view_name": "StyleView",
            "_model_name": "ProgressStyleModel",
            "description_width": "initial",
            "_view_module": "@jupyter-widgets/base",
            "_model_module_version": "1.5.0",
            "_view_count": null,
            "_view_module_version": "1.2.0",
            "bar_color": null,
            "_model_module": "@jupyter-widgets/controls"
          }
        },
        "f6714f2a05db453c83d7c3b85bba65ac": {
          "model_module": "@jupyter-widgets/base",
          "model_name": "LayoutModel",
          "state": {
            "_view_name": "LayoutView",
            "grid_template_rows": null,
            "right": null,
            "justify_content": null,
            "_view_module": "@jupyter-widgets/base",
            "overflow": null,
            "_model_module_version": "1.2.0",
            "_view_count": null,
            "flex_flow": null,
            "width": null,
            "min_width": null,
            "border": null,
            "align_items": null,
            "bottom": null,
            "_model_module": "@jupyter-widgets/base",
            "top": null,
            "grid_column": null,
            "overflow_y": null,
            "overflow_x": null,
            "grid_auto_flow": null,
            "grid_area": null,
            "grid_template_columns": null,
            "flex": null,
            "_model_name": "LayoutModel",
            "justify_items": null,
            "grid_row": null,
            "max_height": null,
            "align_content": null,
            "visibility": null,
            "align_self": null,
            "height": null,
            "min_height": null,
            "padding": null,
            "grid_auto_rows": null,
            "grid_gap": null,
            "max_width": null,
            "order": null,
            "_view_module_version": "1.2.0",
            "grid_template_areas": null,
            "object_position": null,
            "object_fit": null,
            "grid_auto_columns": null,
            "margin": null,
            "display": null,
            "left": null
          }
        },
        "98e0c0b3a6944e74979f1a2c47d8847e": {
          "model_module": "@jupyter-widgets/controls",
          "model_name": "DescriptionStyleModel",
          "state": {
            "_view_name": "StyleView",
            "_model_name": "DescriptionStyleModel",
            "description_width": "",
            "_view_module": "@jupyter-widgets/base",
            "_model_module_version": "1.5.0",
            "_view_count": null,
            "_view_module_version": "1.2.0",
            "_model_module": "@jupyter-widgets/controls"
          }
        },
        "f6dc453dffd441738e4e08c00cbb54fd": {
          "model_module": "@jupyter-widgets/base",
          "model_name": "LayoutModel",
          "state": {
            "_view_name": "LayoutView",
            "grid_template_rows": null,
            "right": null,
            "justify_content": null,
            "_view_module": "@jupyter-widgets/base",
            "overflow": null,
            "_model_module_version": "1.2.0",
            "_view_count": null,
            "flex_flow": null,
            "width": null,
            "min_width": null,
            "border": null,
            "align_items": null,
            "bottom": null,
            "_model_module": "@jupyter-widgets/base",
            "top": null,
            "grid_column": null,
            "overflow_y": null,
            "overflow_x": null,
            "grid_auto_flow": null,
            "grid_area": null,
            "grid_template_columns": null,
            "flex": null,
            "_model_name": "LayoutModel",
            "justify_items": null,
            "grid_row": null,
            "max_height": null,
            "align_content": null,
            "visibility": null,
            "align_self": null,
            "height": null,
            "min_height": null,
            "padding": null,
            "grid_auto_rows": null,
            "grid_gap": null,
            "max_width": null,
            "order": null,
            "_view_module_version": "1.2.0",
            "grid_template_areas": null,
            "object_position": null,
            "object_fit": null,
            "grid_auto_columns": null,
            "margin": null,
            "display": null,
            "left": null
          }
        },
        "7d18ac3011624d97a3a1813f6e5818ef": {
          "model_module": "@jupyter-widgets/controls",
          "model_name": "HBoxModel",
          "state": {
            "_view_name": "HBoxView",
            "_dom_classes": [],
            "_model_name": "HBoxModel",
            "_view_module": "@jupyter-widgets/controls",
            "_model_module_version": "1.5.0",
            "_view_count": null,
            "_view_module_version": "1.5.0",
            "box_style": "",
            "layout": "IPY_MODEL_458a2a6f9aaa48baa2e1403ceb6dcc9d",
            "_model_module": "@jupyter-widgets/controls",
            "children": [
              "IPY_MODEL_f826f2bff7644fdf8c6acf87cf5ca1cf",
              "IPY_MODEL_7c7e6230de054c43a2e97222aad4bec6"
            ]
          }
        },
        "458a2a6f9aaa48baa2e1403ceb6dcc9d": {
          "model_module": "@jupyter-widgets/base",
          "model_name": "LayoutModel",
          "state": {
            "_view_name": "LayoutView",
            "grid_template_rows": null,
            "right": null,
            "justify_content": null,
            "_view_module": "@jupyter-widgets/base",
            "overflow": null,
            "_model_module_version": "1.2.0",
            "_view_count": null,
            "flex_flow": null,
            "width": null,
            "min_width": null,
            "border": null,
            "align_items": null,
            "bottom": null,
            "_model_module": "@jupyter-widgets/base",
            "top": null,
            "grid_column": null,
            "overflow_y": null,
            "overflow_x": null,
            "grid_auto_flow": null,
            "grid_area": null,
            "grid_template_columns": null,
            "flex": null,
            "_model_name": "LayoutModel",
            "justify_items": null,
            "grid_row": null,
            "max_height": null,
            "align_content": null,
            "visibility": null,
            "align_self": null,
            "height": null,
            "min_height": null,
            "padding": null,
            "grid_auto_rows": null,
            "grid_gap": null,
            "max_width": null,
            "order": null,
            "_view_module_version": "1.2.0",
            "grid_template_areas": null,
            "object_position": null,
            "object_fit": null,
            "grid_auto_columns": null,
            "margin": null,
            "display": null,
            "left": null
          }
        },
        "f826f2bff7644fdf8c6acf87cf5ca1cf": {
          "model_module": "@jupyter-widgets/controls",
          "model_name": "FloatProgressModel",
          "state": {
            "_view_name": "ProgressView",
            "style": "IPY_MODEL_dfc6c475e80140ab830b126d35c551db",
            "_dom_classes": [],
            "description": "Downloading: 100%",
            "_model_name": "FloatProgressModel",
            "bar_style": "success",
            "max": 204240,
            "_view_module": "@jupyter-widgets/controls",
            "_model_module_version": "1.5.0",
            "value": 204240,
            "_view_count": null,
            "_view_module_version": "1.5.0",
            "orientation": "horizontal",
            "min": 0,
            "description_tooltip": null,
            "_model_module": "@jupyter-widgets/controls",
            "layout": "IPY_MODEL_0c6145a305e44d5182de7f47a0d0113c"
          }
        },
        "7c7e6230de054c43a2e97222aad4bec6": {
          "model_module": "@jupyter-widgets/controls",
          "model_name": "HTMLModel",
          "state": {
            "_view_name": "HTMLView",
            "style": "IPY_MODEL_ada8d38ae0fd49cb92b0ff29bbbc5826",
            "_dom_classes": [],
            "description": "",
            "_model_name": "HTMLModel",
            "placeholder": "​",
            "_view_module": "@jupyter-widgets/controls",
            "_model_module_version": "1.5.0",
            "value": " 204k/204k [00:01&lt;00:00, 114kB/s]",
            "_view_count": null,
            "_view_module_version": "1.5.0",
            "description_tooltip": null,
            "_model_module": "@jupyter-widgets/controls",
            "layout": "IPY_MODEL_1fdcd668593443c0abf4715d31a24845"
          }
        },
        "dfc6c475e80140ab830b126d35c551db": {
          "model_module": "@jupyter-widgets/controls",
          "model_name": "ProgressStyleModel",
          "state": {
            "_view_name": "StyleView",
            "_model_name": "ProgressStyleModel",
            "description_width": "initial",
            "_view_module": "@jupyter-widgets/base",
            "_model_module_version": "1.5.0",
            "_view_count": null,
            "_view_module_version": "1.2.0",
            "bar_color": null,
            "_model_module": "@jupyter-widgets/controls"
          }
        },
        "0c6145a305e44d5182de7f47a0d0113c": {
          "model_module": "@jupyter-widgets/base",
          "model_name": "LayoutModel",
          "state": {
            "_view_name": "LayoutView",
            "grid_template_rows": null,
            "right": null,
            "justify_content": null,
            "_view_module": "@jupyter-widgets/base",
            "overflow": null,
            "_model_module_version": "1.2.0",
            "_view_count": null,
            "flex_flow": null,
            "width": null,
            "min_width": null,
            "border": null,
            "align_items": null,
            "bottom": null,
            "_model_module": "@jupyter-widgets/base",
            "top": null,
            "grid_column": null,
            "overflow_y": null,
            "overflow_x": null,
            "grid_auto_flow": null,
            "grid_area": null,
            "grid_template_columns": null,
            "flex": null,
            "_model_name": "LayoutModel",
            "justify_items": null,
            "grid_row": null,
            "max_height": null,
            "align_content": null,
            "visibility": null,
            "align_self": null,
            "height": null,
            "min_height": null,
            "padding": null,
            "grid_auto_rows": null,
            "grid_gap": null,
            "max_width": null,
            "order": null,
            "_view_module_version": "1.2.0",
            "grid_template_areas": null,
            "object_position": null,
            "object_fit": null,
            "grid_auto_columns": null,
            "margin": null,
            "display": null,
            "left": null
          }
        },
        "ada8d38ae0fd49cb92b0ff29bbbc5826": {
          "model_module": "@jupyter-widgets/controls",
          "model_name": "DescriptionStyleModel",
          "state": {
            "_view_name": "StyleView",
            "_model_name": "DescriptionStyleModel",
            "description_width": "",
            "_view_module": "@jupyter-widgets/base",
            "_model_module_version": "1.5.0",
            "_view_count": null,
            "_view_module_version": "1.2.0",
            "_model_module": "@jupyter-widgets/controls"
          }
        },
        "1fdcd668593443c0abf4715d31a24845": {
          "model_module": "@jupyter-widgets/base",
          "model_name": "LayoutModel",
          "state": {
            "_view_name": "LayoutView",
            "grid_template_rows": null,
            "right": null,
            "justify_content": null,
            "_view_module": "@jupyter-widgets/base",
            "overflow": null,
            "_model_module_version": "1.2.0",
            "_view_count": null,
            "flex_flow": null,
            "width": null,
            "min_width": null,
            "border": null,
            "align_items": null,
            "bottom": null,
            "_model_module": "@jupyter-widgets/base",
            "top": null,
            "grid_column": null,
            "overflow_y": null,
            "overflow_x": null,
            "grid_auto_flow": null,
            "grid_area": null,
            "grid_template_columns": null,
            "flex": null,
            "_model_name": "LayoutModel",
            "justify_items": null,
            "grid_row": null,
            "max_height": null,
            "align_content": null,
            "visibility": null,
            "align_self": null,
            "height": null,
            "min_height": null,
            "padding": null,
            "grid_auto_rows": null,
            "grid_gap": null,
            "max_width": null,
            "order": null,
            "_view_module_version": "1.2.0",
            "grid_template_areas": null,
            "object_position": null,
            "object_fit": null,
            "grid_auto_columns": null,
            "margin": null,
            "display": null,
            "left": null
          }
        },
        "b75a9cd826c845d1bc56e835c60edc1a": {
          "model_module": "@jupyter-widgets/controls",
          "model_name": "HBoxModel",
          "state": {
            "_view_name": "HBoxView",
            "_dom_classes": [],
            "_model_name": "HBoxModel",
            "_view_module": "@jupyter-widgets/controls",
            "_model_module_version": "1.5.0",
            "_view_count": null,
            "_view_module_version": "1.5.0",
            "box_style": "",
            "layout": "IPY_MODEL_b9adbe34f8f04d95bcc0599083b289b0",
            "_model_module": "@jupyter-widgets/controls",
            "children": [
              "IPY_MODEL_2621d04133d247e688e4e5d17ed9762a",
              "IPY_MODEL_5bfc41e0321a43fb89a9f15598f7ca81"
            ]
          }
        },
        "b9adbe34f8f04d95bcc0599083b289b0": {
          "model_module": "@jupyter-widgets/base",
          "model_name": "LayoutModel",
          "state": {
            "_view_name": "LayoutView",
            "grid_template_rows": null,
            "right": null,
            "justify_content": null,
            "_view_module": "@jupyter-widgets/base",
            "overflow": null,
            "_model_module_version": "1.2.0",
            "_view_count": null,
            "flex_flow": null,
            "width": null,
            "min_width": null,
            "border": null,
            "align_items": null,
            "bottom": null,
            "_model_module": "@jupyter-widgets/base",
            "top": null,
            "grid_column": null,
            "overflow_y": null,
            "overflow_x": null,
            "grid_auto_flow": null,
            "grid_area": null,
            "grid_template_columns": null,
            "flex": null,
            "_model_name": "LayoutModel",
            "justify_items": null,
            "grid_row": null,
            "max_height": null,
            "align_content": null,
            "visibility": null,
            "align_self": null,
            "height": null,
            "min_height": null,
            "padding": null,
            "grid_auto_rows": null,
            "grid_gap": null,
            "max_width": null,
            "order": null,
            "_view_module_version": "1.2.0",
            "grid_template_areas": null,
            "object_position": null,
            "object_fit": null,
            "grid_auto_columns": null,
            "margin": null,
            "display": null,
            "left": null
          }
        },
        "2621d04133d247e688e4e5d17ed9762a": {
          "model_module": "@jupyter-widgets/controls",
          "model_name": "FloatProgressModel",
          "state": {
            "_view_name": "ProgressView",
            "style": "IPY_MODEL_738dda3780df4d17b4419d31d71d645e",
            "_dom_classes": [],
            "description": "Downloading: 100%",
            "_model_name": "FloatProgressModel",
            "bar_style": "success",
            "max": 206760,
            "_view_module": "@jupyter-widgets/controls",
            "_model_module_version": "1.5.0",
            "value": 206760,
            "_view_count": null,
            "_view_module_version": "1.5.0",
            "orientation": "horizontal",
            "min": 0,
            "description_tooltip": null,
            "_model_module": "@jupyter-widgets/controls",
            "layout": "IPY_MODEL_ded682cc21534c7d99b61cb573e5c8e3"
          }
        },
        "5bfc41e0321a43fb89a9f15598f7ca81": {
          "model_module": "@jupyter-widgets/controls",
          "model_name": "HTMLModel",
          "state": {
            "_view_name": "HTMLView",
            "style": "IPY_MODEL_d3d7e2473b4f43e8bd49422a44bccce3",
            "_dom_classes": [],
            "description": "",
            "_model_name": "HTMLModel",
            "placeholder": "​",
            "_view_module": "@jupyter-widgets/controls",
            "_model_module_version": "1.5.0",
            "value": " 207k/207k [00:00&lt;00:00, 1.16MB/s]",
            "_view_count": null,
            "_view_module_version": "1.5.0",
            "description_tooltip": null,
            "_model_module": "@jupyter-widgets/controls",
            "layout": "IPY_MODEL_49c07db977164fb3987f27d7238dd5bc"
          }
        },
        "738dda3780df4d17b4419d31d71d645e": {
          "model_module": "@jupyter-widgets/controls",
          "model_name": "ProgressStyleModel",
          "state": {
            "_view_name": "StyleView",
            "_model_name": "ProgressStyleModel",
            "description_width": "initial",
            "_view_module": "@jupyter-widgets/base",
            "_model_module_version": "1.5.0",
            "_view_count": null,
            "_view_module_version": "1.2.0",
            "bar_color": null,
            "_model_module": "@jupyter-widgets/controls"
          }
        },
        "ded682cc21534c7d99b61cb573e5c8e3": {
          "model_module": "@jupyter-widgets/base",
          "model_name": "LayoutModel",
          "state": {
            "_view_name": "LayoutView",
            "grid_template_rows": null,
            "right": null,
            "justify_content": null,
            "_view_module": "@jupyter-widgets/base",
            "overflow": null,
            "_model_module_version": "1.2.0",
            "_view_count": null,
            "flex_flow": null,
            "width": null,
            "min_width": null,
            "border": null,
            "align_items": null,
            "bottom": null,
            "_model_module": "@jupyter-widgets/base",
            "top": null,
            "grid_column": null,
            "overflow_y": null,
            "overflow_x": null,
            "grid_auto_flow": null,
            "grid_area": null,
            "grid_template_columns": null,
            "flex": null,
            "_model_name": "LayoutModel",
            "justify_items": null,
            "grid_row": null,
            "max_height": null,
            "align_content": null,
            "visibility": null,
            "align_self": null,
            "height": null,
            "min_height": null,
            "padding": null,
            "grid_auto_rows": null,
            "grid_gap": null,
            "max_width": null,
            "order": null,
            "_view_module_version": "1.2.0",
            "grid_template_areas": null,
            "object_position": null,
            "object_fit": null,
            "grid_auto_columns": null,
            "margin": null,
            "display": null,
            "left": null
          }
        },
        "d3d7e2473b4f43e8bd49422a44bccce3": {
          "model_module": "@jupyter-widgets/controls",
          "model_name": "DescriptionStyleModel",
          "state": {
            "_view_name": "StyleView",
            "_model_name": "DescriptionStyleModel",
            "description_width": "",
            "_view_module": "@jupyter-widgets/base",
            "_model_module_version": "1.5.0",
            "_view_count": null,
            "_view_module_version": "1.2.0",
            "_model_module": "@jupyter-widgets/controls"
          }
        },
        "49c07db977164fb3987f27d7238dd5bc": {
          "model_module": "@jupyter-widgets/base",
          "model_name": "LayoutModel",
          "state": {
            "_view_name": "LayoutView",
            "grid_template_rows": null,
            "right": null,
            "justify_content": null,
            "_view_module": "@jupyter-widgets/base",
            "overflow": null,
            "_model_module_version": "1.2.0",
            "_view_count": null,
            "flex_flow": null,
            "width": null,
            "min_width": null,
            "border": null,
            "align_items": null,
            "bottom": null,
            "_model_module": "@jupyter-widgets/base",
            "top": null,
            "grid_column": null,
            "overflow_y": null,
            "overflow_x": null,
            "grid_auto_flow": null,
            "grid_area": null,
            "grid_template_columns": null,
            "flex": null,
            "_model_name": "LayoutModel",
            "justify_items": null,
            "grid_row": null,
            "max_height": null,
            "align_content": null,
            "visibility": null,
            "align_self": null,
            "height": null,
            "min_height": null,
            "padding": null,
            "grid_auto_rows": null,
            "grid_gap": null,
            "max_width": null,
            "order": null,
            "_view_module_version": "1.2.0",
            "grid_template_areas": null,
            "object_position": null,
            "object_fit": null,
            "grid_auto_columns": null,
            "margin": null,
            "display": null,
            "left": null
          }
        },
        "a386df72dca04c7d8e75ab6351c5e6e8": {
          "model_module": "@jupyter-widgets/controls",
          "model_name": "HBoxModel",
          "state": {
            "_view_name": "HBoxView",
            "_dom_classes": [],
            "_model_name": "HBoxModel",
            "_view_module": "@jupyter-widgets/controls",
            "_model_module_version": "1.5.0",
            "_view_count": null,
            "_view_module_version": "1.5.0",
            "box_style": "",
            "layout": "IPY_MODEL_1b312ac8a11b4a65a7beb8d6f4b962dd",
            "_model_module": "@jupyter-widgets/controls",
            "children": [
              "IPY_MODEL_6e75732d6f944a639a8fbaca17619be6",
              "IPY_MODEL_2538f6da18cb4ccfbe2b8a558c3f240b"
            ]
          }
        },
        "1b312ac8a11b4a65a7beb8d6f4b962dd": {
          "model_module": "@jupyter-widgets/base",
          "model_name": "LayoutModel",
          "state": {
            "_view_name": "LayoutView",
            "grid_template_rows": null,
            "right": null,
            "justify_content": null,
            "_view_module": "@jupyter-widgets/base",
            "overflow": null,
            "_model_module_version": "1.2.0",
            "_view_count": null,
            "flex_flow": null,
            "width": null,
            "min_width": null,
            "border": null,
            "align_items": null,
            "bottom": null,
            "_model_module": "@jupyter-widgets/base",
            "top": null,
            "grid_column": null,
            "overflow_y": null,
            "overflow_x": null,
            "grid_auto_flow": null,
            "grid_area": null,
            "grid_template_columns": null,
            "flex": null,
            "_model_name": "LayoutModel",
            "justify_items": null,
            "grid_row": null,
            "max_height": null,
            "align_content": null,
            "visibility": null,
            "align_self": null,
            "height": null,
            "min_height": null,
            "padding": null,
            "grid_auto_rows": null,
            "grid_gap": null,
            "max_width": null,
            "order": null,
            "_view_module_version": "1.2.0",
            "grid_template_areas": null,
            "object_position": null,
            "object_fit": null,
            "grid_auto_columns": null,
            "margin": null,
            "display": null,
            "left": null
          }
        },
        "6e75732d6f944a639a8fbaca17619be6": {
          "model_module": "@jupyter-widgets/controls",
          "model_name": "FloatProgressModel",
          "state": {
            "_view_name": "ProgressView",
            "style": "IPY_MODEL_2e4748520a4348248d2138d041e40275",
            "_dom_classes": [],
            "description": "",
            "_model_name": "FloatProgressModel",
            "bar_style": "info",
            "max": 1,
            "_view_module": "@jupyter-widgets/controls",
            "_model_module_version": "1.5.0",
            "value": 1,
            "_view_count": null,
            "_view_module_version": "1.5.0",
            "orientation": "horizontal",
            "min": 0,
            "description_tooltip": null,
            "_model_module": "@jupyter-widgets/controls",
            "layout": "IPY_MODEL_d3a13ba59ed9410eaab50b038d4c229a"
          }
        },
        "2538f6da18cb4ccfbe2b8a558c3f240b": {
          "model_module": "@jupyter-widgets/controls",
          "model_name": "HTMLModel",
          "state": {
            "_view_name": "HTMLView",
            "style": "IPY_MODEL_bef7ab0c970341138bbf71f3da2495fe",
            "_dom_classes": [],
            "description": "",
            "_model_name": "HTMLModel",
            "placeholder": "​",
            "_view_module": "@jupyter-widgets/controls",
            "_model_module_version": "1.5.0",
            "value": " 16000/0 [00:00&lt;00:00, 39364.80 examples/s]",
            "_view_count": null,
            "_view_module_version": "1.5.0",
            "description_tooltip": null,
            "_model_module": "@jupyter-widgets/controls",
            "layout": "IPY_MODEL_a5786362df754a519f3e441d5f2174a1"
          }
        },
        "2e4748520a4348248d2138d041e40275": {
          "model_module": "@jupyter-widgets/controls",
          "model_name": "ProgressStyleModel",
          "state": {
            "_view_name": "StyleView",
            "_model_name": "ProgressStyleModel",
            "description_width": "initial",
            "_view_module": "@jupyter-widgets/base",
            "_model_module_version": "1.5.0",
            "_view_count": null,
            "_view_module_version": "1.2.0",
            "bar_color": null,
            "_model_module": "@jupyter-widgets/controls"
          }
        },
        "d3a13ba59ed9410eaab50b038d4c229a": {
          "model_module": "@jupyter-widgets/base",
          "model_name": "LayoutModel",
          "state": {
            "_view_name": "LayoutView",
            "grid_template_rows": null,
            "right": null,
            "justify_content": null,
            "_view_module": "@jupyter-widgets/base",
            "overflow": null,
            "_model_module_version": "1.2.0",
            "_view_count": null,
            "flex_flow": null,
            "width": null,
            "min_width": null,
            "border": null,
            "align_items": null,
            "bottom": null,
            "_model_module": "@jupyter-widgets/base",
            "top": null,
            "grid_column": null,
            "overflow_y": null,
            "overflow_x": null,
            "grid_auto_flow": null,
            "grid_area": null,
            "grid_template_columns": null,
            "flex": null,
            "_model_name": "LayoutModel",
            "justify_items": null,
            "grid_row": null,
            "max_height": null,
            "align_content": null,
            "visibility": null,
            "align_self": null,
            "height": null,
            "min_height": null,
            "padding": null,
            "grid_auto_rows": null,
            "grid_gap": null,
            "max_width": null,
            "order": null,
            "_view_module_version": "1.2.0",
            "grid_template_areas": null,
            "object_position": null,
            "object_fit": null,
            "grid_auto_columns": null,
            "margin": null,
            "display": null,
            "left": null
          }
        },
        "bef7ab0c970341138bbf71f3da2495fe": {
          "model_module": "@jupyter-widgets/controls",
          "model_name": "DescriptionStyleModel",
          "state": {
            "_view_name": "StyleView",
            "_model_name": "DescriptionStyleModel",
            "description_width": "",
            "_view_module": "@jupyter-widgets/base",
            "_model_module_version": "1.5.0",
            "_view_count": null,
            "_view_module_version": "1.2.0",
            "_model_module": "@jupyter-widgets/controls"
          }
        },
        "a5786362df754a519f3e441d5f2174a1": {
          "model_module": "@jupyter-widgets/base",
          "model_name": "LayoutModel",
          "state": {
            "_view_name": "LayoutView",
            "grid_template_rows": null,
            "right": null,
            "justify_content": null,
            "_view_module": "@jupyter-widgets/base",
            "overflow": null,
            "_model_module_version": "1.2.0",
            "_view_count": null,
            "flex_flow": null,
            "width": null,
            "min_width": null,
            "border": null,
            "align_items": null,
            "bottom": null,
            "_model_module": "@jupyter-widgets/base",
            "top": null,
            "grid_column": null,
            "overflow_y": null,
            "overflow_x": null,
            "grid_auto_flow": null,
            "grid_area": null,
            "grid_template_columns": null,
            "flex": null,
            "_model_name": "LayoutModel",
            "justify_items": null,
            "grid_row": null,
            "max_height": null,
            "align_content": null,
            "visibility": null,
            "align_self": null,
            "height": null,
            "min_height": null,
            "padding": null,
            "grid_auto_rows": null,
            "grid_gap": null,
            "max_width": null,
            "order": null,
            "_view_module_version": "1.2.0",
            "grid_template_areas": null,
            "object_position": null,
            "object_fit": null,
            "grid_auto_columns": null,
            "margin": null,
            "display": null,
            "left": null
          }
        },
        "04cfcf1530e14fd2ba159e2a6baeab2d": {
          "model_module": "@jupyter-widgets/controls",
          "model_name": "HBoxModel",
          "state": {
            "_view_name": "HBoxView",
            "_dom_classes": [],
            "_model_name": "HBoxModel",
            "_view_module": "@jupyter-widgets/controls",
            "_model_module_version": "1.5.0",
            "_view_count": null,
            "_view_module_version": "1.5.0",
            "box_style": "",
            "layout": "IPY_MODEL_5d54869b556e43e090d487301b1e8ef5",
            "_model_module": "@jupyter-widgets/controls",
            "children": [
              "IPY_MODEL_dc0aefd505154cf589b16e15c8288e5c",
              "IPY_MODEL_595d5ff2c56d414fb43b97a5207562c9"
            ]
          }
        },
        "5d54869b556e43e090d487301b1e8ef5": {
          "model_module": "@jupyter-widgets/base",
          "model_name": "LayoutModel",
          "state": {
            "_view_name": "LayoutView",
            "grid_template_rows": null,
            "right": null,
            "justify_content": null,
            "_view_module": "@jupyter-widgets/base",
            "overflow": null,
            "_model_module_version": "1.2.0",
            "_view_count": null,
            "flex_flow": null,
            "width": null,
            "min_width": null,
            "border": null,
            "align_items": null,
            "bottom": null,
            "_model_module": "@jupyter-widgets/base",
            "top": null,
            "grid_column": null,
            "overflow_y": null,
            "overflow_x": null,
            "grid_auto_flow": null,
            "grid_area": null,
            "grid_template_columns": null,
            "flex": null,
            "_model_name": "LayoutModel",
            "justify_items": null,
            "grid_row": null,
            "max_height": null,
            "align_content": null,
            "visibility": null,
            "align_self": null,
            "height": null,
            "min_height": null,
            "padding": null,
            "grid_auto_rows": null,
            "grid_gap": null,
            "max_width": null,
            "order": null,
            "_view_module_version": "1.2.0",
            "grid_template_areas": null,
            "object_position": null,
            "object_fit": null,
            "grid_auto_columns": null,
            "margin": null,
            "display": null,
            "left": null
          }
        },
        "dc0aefd505154cf589b16e15c8288e5c": {
          "model_module": "@jupyter-widgets/controls",
          "model_name": "FloatProgressModel",
          "state": {
            "_view_name": "ProgressView",
            "style": "IPY_MODEL_d15ffc239fa24e7ea7a7965be1cae5ee",
            "_dom_classes": [],
            "description": "",
            "_model_name": "FloatProgressModel",
            "bar_style": "info",
            "max": 1,
            "_view_module": "@jupyter-widgets/controls",
            "_model_module_version": "1.5.0",
            "value": 1,
            "_view_count": null,
            "_view_module_version": "1.5.0",
            "orientation": "horizontal",
            "min": 0,
            "description_tooltip": null,
            "_model_module": "@jupyter-widgets/controls",
            "layout": "IPY_MODEL_f078cb5f7d514cc6b28ddea49b2d961e"
          }
        },
        "595d5ff2c56d414fb43b97a5207562c9": {
          "model_module": "@jupyter-widgets/controls",
          "model_name": "HTMLModel",
          "state": {
            "_view_name": "HTMLView",
            "style": "IPY_MODEL_67977a08861141f082033017b58f9ca0",
            "_dom_classes": [],
            "description": "",
            "_model_name": "HTMLModel",
            "placeholder": "​",
            "_view_module": "@jupyter-widgets/controls",
            "_model_module_version": "1.5.0",
            "value": " 2000/0 [00:00&lt;00:00, 26081.22 examples/s]",
            "_view_count": null,
            "_view_module_version": "1.5.0",
            "description_tooltip": null,
            "_model_module": "@jupyter-widgets/controls",
            "layout": "IPY_MODEL_693d0df7fc214e85a0fe9947ee732123"
          }
        },
        "d15ffc239fa24e7ea7a7965be1cae5ee": {
          "model_module": "@jupyter-widgets/controls",
          "model_name": "ProgressStyleModel",
          "state": {
            "_view_name": "StyleView",
            "_model_name": "ProgressStyleModel",
            "description_width": "initial",
            "_view_module": "@jupyter-widgets/base",
            "_model_module_version": "1.5.0",
            "_view_count": null,
            "_view_module_version": "1.2.0",
            "bar_color": null,
            "_model_module": "@jupyter-widgets/controls"
          }
        },
        "f078cb5f7d514cc6b28ddea49b2d961e": {
          "model_module": "@jupyter-widgets/base",
          "model_name": "LayoutModel",
          "state": {
            "_view_name": "LayoutView",
            "grid_template_rows": null,
            "right": null,
            "justify_content": null,
            "_view_module": "@jupyter-widgets/base",
            "overflow": null,
            "_model_module_version": "1.2.0",
            "_view_count": null,
            "flex_flow": null,
            "width": null,
            "min_width": null,
            "border": null,
            "align_items": null,
            "bottom": null,
            "_model_module": "@jupyter-widgets/base",
            "top": null,
            "grid_column": null,
            "overflow_y": null,
            "overflow_x": null,
            "grid_auto_flow": null,
            "grid_area": null,
            "grid_template_columns": null,
            "flex": null,
            "_model_name": "LayoutModel",
            "justify_items": null,
            "grid_row": null,
            "max_height": null,
            "align_content": null,
            "visibility": null,
            "align_self": null,
            "height": null,
            "min_height": null,
            "padding": null,
            "grid_auto_rows": null,
            "grid_gap": null,
            "max_width": null,
            "order": null,
            "_view_module_version": "1.2.0",
            "grid_template_areas": null,
            "object_position": null,
            "object_fit": null,
            "grid_auto_columns": null,
            "margin": null,
            "display": null,
            "left": null
          }
        },
        "67977a08861141f082033017b58f9ca0": {
          "model_module": "@jupyter-widgets/controls",
          "model_name": "DescriptionStyleModel",
          "state": {
            "_view_name": "StyleView",
            "_model_name": "DescriptionStyleModel",
            "description_width": "",
            "_view_module": "@jupyter-widgets/base",
            "_model_module_version": "1.5.0",
            "_view_count": null,
            "_view_module_version": "1.2.0",
            "_model_module": "@jupyter-widgets/controls"
          }
        },
        "693d0df7fc214e85a0fe9947ee732123": {
          "model_module": "@jupyter-widgets/base",
          "model_name": "LayoutModel",
          "state": {
            "_view_name": "LayoutView",
            "grid_template_rows": null,
            "right": null,
            "justify_content": null,
            "_view_module": "@jupyter-widgets/base",
            "overflow": null,
            "_model_module_version": "1.2.0",
            "_view_count": null,
            "flex_flow": null,
            "width": null,
            "min_width": null,
            "border": null,
            "align_items": null,
            "bottom": null,
            "_model_module": "@jupyter-widgets/base",
            "top": null,
            "grid_column": null,
            "overflow_y": null,
            "overflow_x": null,
            "grid_auto_flow": null,
            "grid_area": null,
            "grid_template_columns": null,
            "flex": null,
            "_model_name": "LayoutModel",
            "justify_items": null,
            "grid_row": null,
            "max_height": null,
            "align_content": null,
            "visibility": null,
            "align_self": null,
            "height": null,
            "min_height": null,
            "padding": null,
            "grid_auto_rows": null,
            "grid_gap": null,
            "max_width": null,
            "order": null,
            "_view_module_version": "1.2.0",
            "grid_template_areas": null,
            "object_position": null,
            "object_fit": null,
            "grid_auto_columns": null,
            "margin": null,
            "display": null,
            "left": null
          }
        },
        "0c99357dbc324f2093bfe35e9c86909a": {
          "model_module": "@jupyter-widgets/controls",
          "model_name": "HBoxModel",
          "state": {
            "_view_name": "HBoxView",
            "_dom_classes": [],
            "_model_name": "HBoxModel",
            "_view_module": "@jupyter-widgets/controls",
            "_model_module_version": "1.5.0",
            "_view_count": null,
            "_view_module_version": "1.5.0",
            "box_style": "",
            "layout": "IPY_MODEL_4e778134f3434b9ca8ebd09d315e7bff",
            "_model_module": "@jupyter-widgets/controls",
            "children": [
              "IPY_MODEL_40e5ef41d9494ebfb8bfe248022f84de",
              "IPY_MODEL_33999cca998a49f7acc76b4a8ee738b6"
            ]
          }
        },
        "4e778134f3434b9ca8ebd09d315e7bff": {
          "model_module": "@jupyter-widgets/base",
          "model_name": "LayoutModel",
          "state": {
            "_view_name": "LayoutView",
            "grid_template_rows": null,
            "right": null,
            "justify_content": null,
            "_view_module": "@jupyter-widgets/base",
            "overflow": null,
            "_model_module_version": "1.2.0",
            "_view_count": null,
            "flex_flow": null,
            "width": null,
            "min_width": null,
            "border": null,
            "align_items": null,
            "bottom": null,
            "_model_module": "@jupyter-widgets/base",
            "top": null,
            "grid_column": null,
            "overflow_y": null,
            "overflow_x": null,
            "grid_auto_flow": null,
            "grid_area": null,
            "grid_template_columns": null,
            "flex": null,
            "_model_name": "LayoutModel",
            "justify_items": null,
            "grid_row": null,
            "max_height": null,
            "align_content": null,
            "visibility": null,
            "align_self": null,
            "height": null,
            "min_height": null,
            "padding": null,
            "grid_auto_rows": null,
            "grid_gap": null,
            "max_width": null,
            "order": null,
            "_view_module_version": "1.2.0",
            "grid_template_areas": null,
            "object_position": null,
            "object_fit": null,
            "grid_auto_columns": null,
            "margin": null,
            "display": null,
            "left": null
          }
        },
        "40e5ef41d9494ebfb8bfe248022f84de": {
          "model_module": "@jupyter-widgets/controls",
          "model_name": "FloatProgressModel",
          "state": {
            "_view_name": "ProgressView",
            "style": "IPY_MODEL_cf9cccb827544e91a8696fb1a07b89c0",
            "_dom_classes": [],
            "description": "",
            "_model_name": "FloatProgressModel",
            "bar_style": "info",
            "max": 1,
            "_view_module": "@jupyter-widgets/controls",
            "_model_module_version": "1.5.0",
            "value": 1,
            "_view_count": null,
            "_view_module_version": "1.5.0",
            "orientation": "horizontal",
            "min": 0,
            "description_tooltip": null,
            "_model_module": "@jupyter-widgets/controls",
            "layout": "IPY_MODEL_6b801d3b568b426884129e32b69d9f3d"
          }
        },
        "33999cca998a49f7acc76b4a8ee738b6": {
          "model_module": "@jupyter-widgets/controls",
          "model_name": "HTMLModel",
          "state": {
            "_view_name": "HTMLView",
            "style": "IPY_MODEL_b28fdbd860944bc3a27c08a2a2002c51",
            "_dom_classes": [],
            "description": "",
            "_model_name": "HTMLModel",
            "placeholder": "​",
            "_view_module": "@jupyter-widgets/controls",
            "_model_module_version": "1.5.0",
            "value": " 2000/0 [00:00&lt;00:00, 25103.64 examples/s]",
            "_view_count": null,
            "_view_module_version": "1.5.0",
            "description_tooltip": null,
            "_model_module": "@jupyter-widgets/controls",
            "layout": "IPY_MODEL_fdbbdc0dc5784514b365ae96056eb5fc"
          }
        },
        "cf9cccb827544e91a8696fb1a07b89c0": {
          "model_module": "@jupyter-widgets/controls",
          "model_name": "ProgressStyleModel",
          "state": {
            "_view_name": "StyleView",
            "_model_name": "ProgressStyleModel",
            "description_width": "initial",
            "_view_module": "@jupyter-widgets/base",
            "_model_module_version": "1.5.0",
            "_view_count": null,
            "_view_module_version": "1.2.0",
            "bar_color": null,
            "_model_module": "@jupyter-widgets/controls"
          }
        },
        "6b801d3b568b426884129e32b69d9f3d": {
          "model_module": "@jupyter-widgets/base",
          "model_name": "LayoutModel",
          "state": {
            "_view_name": "LayoutView",
            "grid_template_rows": null,
            "right": null,
            "justify_content": null,
            "_view_module": "@jupyter-widgets/base",
            "overflow": null,
            "_model_module_version": "1.2.0",
            "_view_count": null,
            "flex_flow": null,
            "width": null,
            "min_width": null,
            "border": null,
            "align_items": null,
            "bottom": null,
            "_model_module": "@jupyter-widgets/base",
            "top": null,
            "grid_column": null,
            "overflow_y": null,
            "overflow_x": null,
            "grid_auto_flow": null,
            "grid_area": null,
            "grid_template_columns": null,
            "flex": null,
            "_model_name": "LayoutModel",
            "justify_items": null,
            "grid_row": null,
            "max_height": null,
            "align_content": null,
            "visibility": null,
            "align_self": null,
            "height": null,
            "min_height": null,
            "padding": null,
            "grid_auto_rows": null,
            "grid_gap": null,
            "max_width": null,
            "order": null,
            "_view_module_version": "1.2.0",
            "grid_template_areas": null,
            "object_position": null,
            "object_fit": null,
            "grid_auto_columns": null,
            "margin": null,
            "display": null,
            "left": null
          }
        },
        "b28fdbd860944bc3a27c08a2a2002c51": {
          "model_module": "@jupyter-widgets/controls",
          "model_name": "DescriptionStyleModel",
          "state": {
            "_view_name": "StyleView",
            "_model_name": "DescriptionStyleModel",
            "description_width": "",
            "_view_module": "@jupyter-widgets/base",
            "_model_module_version": "1.5.0",
            "_view_count": null,
            "_view_module_version": "1.2.0",
            "_model_module": "@jupyter-widgets/controls"
          }
        },
        "fdbbdc0dc5784514b365ae96056eb5fc": {
          "model_module": "@jupyter-widgets/base",
          "model_name": "LayoutModel",
          "state": {
            "_view_name": "LayoutView",
            "grid_template_rows": null,
            "right": null,
            "justify_content": null,
            "_view_module": "@jupyter-widgets/base",
            "overflow": null,
            "_model_module_version": "1.2.0",
            "_view_count": null,
            "flex_flow": null,
            "width": null,
            "min_width": null,
            "border": null,
            "align_items": null,
            "bottom": null,
            "_model_module": "@jupyter-widgets/base",
            "top": null,
            "grid_column": null,
            "overflow_y": null,
            "overflow_x": null,
            "grid_auto_flow": null,
            "grid_area": null,
            "grid_template_columns": null,
            "flex": null,
            "_model_name": "LayoutModel",
            "justify_items": null,
            "grid_row": null,
            "max_height": null,
            "align_content": null,
            "visibility": null,
            "align_self": null,
            "height": null,
            "min_height": null,
            "padding": null,
            "grid_auto_rows": null,
            "grid_gap": null,
            "max_width": null,
            "order": null,
            "_view_module_version": "1.2.0",
            "grid_template_areas": null,
            "object_position": null,
            "object_fit": null,
            "grid_auto_columns": null,
            "margin": null,
            "display": null,
            "left": null
          }
        }
      }
    }
  },
  "cells": [
    {
      "cell_type": "code",
      "metadata": {
        "colab": {
          "base_uri": "https://localhost:8080/"
        },
        "id": "oGC7beXTrqQc",
        "outputId": "20ab5ac1-e3f0-4433-a7f3-19be28a463a3"
      },
      "source": [
        "pip install nlp"
      ],
      "execution_count": 1,
      "outputs": [
        {
          "output_type": "stream",
          "text": [
            "Collecting nlp\n",
            "  Downloading nlp-0.4.0-py3-none-any.whl (1.7 MB)\n",
            "\u001b[?25l\r\u001b[K     |▏                               | 10 kB 29.6 MB/s eta 0:00:01\r\u001b[K     |▍                               | 20 kB 22.7 MB/s eta 0:00:01\r\u001b[K     |▋                               | 30 kB 14.6 MB/s eta 0:00:01\r\u001b[K     |▉                               | 40 kB 14.3 MB/s eta 0:00:01\r\u001b[K     |█                               | 51 kB 7.1 MB/s eta 0:00:01\r\u001b[K     |█▏                              | 61 kB 8.3 MB/s eta 0:00:01\r\u001b[K     |█▍                              | 71 kB 8.7 MB/s eta 0:00:01\r\u001b[K     |█▋                              | 81 kB 9.0 MB/s eta 0:00:01\r\u001b[K     |█▉                              | 92 kB 9.3 MB/s eta 0:00:01\r\u001b[K     |██                              | 102 kB 7.5 MB/s eta 0:00:01\r\u001b[K     |██▏                             | 112 kB 7.5 MB/s eta 0:00:01\r\u001b[K     |██▍                             | 122 kB 7.5 MB/s eta 0:00:01\r\u001b[K     |██▋                             | 133 kB 7.5 MB/s eta 0:00:01\r\u001b[K     |██▊                             | 143 kB 7.5 MB/s eta 0:00:01\r\u001b[K     |███                             | 153 kB 7.5 MB/s eta 0:00:01\r\u001b[K     |███▏                            | 163 kB 7.5 MB/s eta 0:00:01\r\u001b[K     |███▍                            | 174 kB 7.5 MB/s eta 0:00:01\r\u001b[K     |███▋                            | 184 kB 7.5 MB/s eta 0:00:01\r\u001b[K     |███▊                            | 194 kB 7.5 MB/s eta 0:00:01\r\u001b[K     |████                            | 204 kB 7.5 MB/s eta 0:00:01\r\u001b[K     |████▏                           | 215 kB 7.5 MB/s eta 0:00:01\r\u001b[K     |████▍                           | 225 kB 7.5 MB/s eta 0:00:01\r\u001b[K     |████▌                           | 235 kB 7.5 MB/s eta 0:00:01\r\u001b[K     |████▊                           | 245 kB 7.5 MB/s eta 0:00:01\r\u001b[K     |█████                           | 256 kB 7.5 MB/s eta 0:00:01\r\u001b[K     |█████▏                          | 266 kB 7.5 MB/s eta 0:00:01\r\u001b[K     |█████▍                          | 276 kB 7.5 MB/s eta 0:00:01\r\u001b[K     |█████▌                          | 286 kB 7.5 MB/s eta 0:00:01\r\u001b[K     |█████▊                          | 296 kB 7.5 MB/s eta 0:00:01\r\u001b[K     |██████                          | 307 kB 7.5 MB/s eta 0:00:01\r\u001b[K     |██████▏                         | 317 kB 7.5 MB/s eta 0:00:01\r\u001b[K     |██████▎                         | 327 kB 7.5 MB/s eta 0:00:01\r\u001b[K     |██████▌                         | 337 kB 7.5 MB/s eta 0:00:01\r\u001b[K     |██████▊                         | 348 kB 7.5 MB/s eta 0:00:01\r\u001b[K     |███████                         | 358 kB 7.5 MB/s eta 0:00:01\r\u001b[K     |███████▏                        | 368 kB 7.5 MB/s eta 0:00:01\r\u001b[K     |███████▎                        | 378 kB 7.5 MB/s eta 0:00:01\r\u001b[K     |███████▌                        | 389 kB 7.5 MB/s eta 0:00:01\r\u001b[K     |███████▊                        | 399 kB 7.5 MB/s eta 0:00:01\r\u001b[K     |████████                        | 409 kB 7.5 MB/s eta 0:00:01\r\u001b[K     |████████                        | 419 kB 7.5 MB/s eta 0:00:01\r\u001b[K     |████████▎                       | 430 kB 7.5 MB/s eta 0:00:01\r\u001b[K     |████████▌                       | 440 kB 7.5 MB/s eta 0:00:01\r\u001b[K     |████████▊                       | 450 kB 7.5 MB/s eta 0:00:01\r\u001b[K     |█████████                       | 460 kB 7.5 MB/s eta 0:00:01\r\u001b[K     |█████████                       | 471 kB 7.5 MB/s eta 0:00:01\r\u001b[K     |█████████▎                      | 481 kB 7.5 MB/s eta 0:00:01\r\u001b[K     |█████████▌                      | 491 kB 7.5 MB/s eta 0:00:01\r\u001b[K     |█████████▊                      | 501 kB 7.5 MB/s eta 0:00:01\r\u001b[K     |█████████▉                      | 512 kB 7.5 MB/s eta 0:00:01\r\u001b[K     |██████████                      | 522 kB 7.5 MB/s eta 0:00:01\r\u001b[K     |██████████▎                     | 532 kB 7.5 MB/s eta 0:00:01\r\u001b[K     |██████████▌                     | 542 kB 7.5 MB/s eta 0:00:01\r\u001b[K     |██████████▊                     | 552 kB 7.5 MB/s eta 0:00:01\r\u001b[K     |██████████▉                     | 563 kB 7.5 MB/s eta 0:00:01\r\u001b[K     |███████████                     | 573 kB 7.5 MB/s eta 0:00:01\r\u001b[K     |███████████▎                    | 583 kB 7.5 MB/s eta 0:00:01\r\u001b[K     |███████████▌                    | 593 kB 7.5 MB/s eta 0:00:01\r\u001b[K     |███████████▋                    | 604 kB 7.5 MB/s eta 0:00:01\r\u001b[K     |███████████▉                    | 614 kB 7.5 MB/s eta 0:00:01\r\u001b[K     |████████████                    | 624 kB 7.5 MB/s eta 0:00:01\r\u001b[K     |████████████▎                   | 634 kB 7.5 MB/s eta 0:00:01\r\u001b[K     |████████████▌                   | 645 kB 7.5 MB/s eta 0:00:01\r\u001b[K     |████████████▋                   | 655 kB 7.5 MB/s eta 0:00:01\r\u001b[K     |████████████▉                   | 665 kB 7.5 MB/s eta 0:00:01\r\u001b[K     |█████████████                   | 675 kB 7.5 MB/s eta 0:00:01\r\u001b[K     |█████████████▎                  | 686 kB 7.5 MB/s eta 0:00:01\r\u001b[K     |█████████████▍                  | 696 kB 7.5 MB/s eta 0:00:01\r\u001b[K     |█████████████▋                  | 706 kB 7.5 MB/s eta 0:00:01\r\u001b[K     |█████████████▉                  | 716 kB 7.5 MB/s eta 0:00:01\r\u001b[K     |██████████████                  | 727 kB 7.5 MB/s eta 0:00:01\r\u001b[K     |██████████████▎                 | 737 kB 7.5 MB/s eta 0:00:01\r\u001b[K     |██████████████▍                 | 747 kB 7.5 MB/s eta 0:00:01\r\u001b[K     |██████████████▋                 | 757 kB 7.5 MB/s eta 0:00:01\r\u001b[K     |██████████████▉                 | 768 kB 7.5 MB/s eta 0:00:01\r\u001b[K     |███████████████                 | 778 kB 7.5 MB/s eta 0:00:01\r\u001b[K     |███████████████▏                | 788 kB 7.5 MB/s eta 0:00:01\r\u001b[K     |███████████████▍                | 798 kB 7.5 MB/s eta 0:00:01\r\u001b[K     |███████████████▋                | 808 kB 7.5 MB/s eta 0:00:01\r\u001b[K     |███████████████▉                | 819 kB 7.5 MB/s eta 0:00:01\r\u001b[K     |████████████████                | 829 kB 7.5 MB/s eta 0:00:01\r\u001b[K     |████████████████▏               | 839 kB 7.5 MB/s eta 0:00:01\r\u001b[K     |████████████████▍               | 849 kB 7.5 MB/s eta 0:00:01\r\u001b[K     |████████████████▋               | 860 kB 7.5 MB/s eta 0:00:01\r\u001b[K     |████████████████▉               | 870 kB 7.5 MB/s eta 0:00:01\r\u001b[K     |█████████████████               | 880 kB 7.5 MB/s eta 0:00:01\r\u001b[K     |█████████████████▏              | 890 kB 7.5 MB/s eta 0:00:01\r\u001b[K     |█████████████████▍              | 901 kB 7.5 MB/s eta 0:00:01\r\u001b[K     |█████████████████▋              | 911 kB 7.5 MB/s eta 0:00:01\r\u001b[K     |█████████████████▉              | 921 kB 7.5 MB/s eta 0:00:01\r\u001b[K     |██████████████████              | 931 kB 7.5 MB/s eta 0:00:01\r\u001b[K     |██████████████████▏             | 942 kB 7.5 MB/s eta 0:00:01\r\u001b[K     |██████████████████▍             | 952 kB 7.5 MB/s eta 0:00:01\r\u001b[K     |██████████████████▋             | 962 kB 7.5 MB/s eta 0:00:01\r\u001b[K     |██████████████████▊             | 972 kB 7.5 MB/s eta 0:00:01\r\u001b[K     |███████████████████             | 983 kB 7.5 MB/s eta 0:00:01\r\u001b[K     |███████████████████▏            | 993 kB 7.5 MB/s eta 0:00:01\r\u001b[K     |███████████████████▍            | 1.0 MB 7.5 MB/s eta 0:00:01\r\u001b[K     |███████████████████▋            | 1.0 MB 7.5 MB/s eta 0:00:01\r\u001b[K     |███████████████████▊            | 1.0 MB 7.5 MB/s eta 0:00:01\r\u001b[K     |████████████████████            | 1.0 MB 7.5 MB/s eta 0:00:01\r\u001b[K     |████████████████████▏           | 1.0 MB 7.5 MB/s eta 0:00:01\r\u001b[K     |████████████████████▍           | 1.1 MB 7.5 MB/s eta 0:00:01\r\u001b[K     |████████████████████▌           | 1.1 MB 7.5 MB/s eta 0:00:01\r\u001b[K     |████████████████████▊           | 1.1 MB 7.5 MB/s eta 0:00:01\r\u001b[K     |█████████████████████           | 1.1 MB 7.5 MB/s eta 0:00:01\r\u001b[K     |█████████████████████▏          | 1.1 MB 7.5 MB/s eta 0:00:01\r\u001b[K     |█████████████████████▍          | 1.1 MB 7.5 MB/s eta 0:00:01\r\u001b[K     |█████████████████████▌          | 1.1 MB 7.5 MB/s eta 0:00:01\r\u001b[K     |█████████████████████▊          | 1.1 MB 7.5 MB/s eta 0:00:01\r\u001b[K     |██████████████████████          | 1.1 MB 7.5 MB/s eta 0:00:01\r\u001b[K     |██████████████████████▏         | 1.1 MB 7.5 MB/s eta 0:00:01\r\u001b[K     |██████████████████████▎         | 1.2 MB 7.5 MB/s eta 0:00:01\r\u001b[K     |██████████████████████▌         | 1.2 MB 7.5 MB/s eta 0:00:01\r\u001b[K     |██████████████████████▊         | 1.2 MB 7.5 MB/s eta 0:00:01\r\u001b[K     |███████████████████████         | 1.2 MB 7.5 MB/s eta 0:00:01\r\u001b[K     |███████████████████████▏        | 1.2 MB 7.5 MB/s eta 0:00:01\r\u001b[K     |███████████████████████▎        | 1.2 MB 7.5 MB/s eta 0:00:01\r\u001b[K     |███████████████████████▌        | 1.2 MB 7.5 MB/s eta 0:00:01\r\u001b[K     |███████████████████████▊        | 1.2 MB 7.5 MB/s eta 0:00:01\r\u001b[K     |████████████████████████        | 1.2 MB 7.5 MB/s eta 0:00:01\r\u001b[K     |████████████████████████        | 1.2 MB 7.5 MB/s eta 0:00:01\r\u001b[K     |████████████████████████▎       | 1.3 MB 7.5 MB/s eta 0:00:01\r\u001b[K     |████████████████████████▌       | 1.3 MB 7.5 MB/s eta 0:00:01\r\u001b[K     |████████████████████████▊       | 1.3 MB 7.5 MB/s eta 0:00:01\r\u001b[K     |█████████████████████████       | 1.3 MB 7.5 MB/s eta 0:00:01\r\u001b[K     |█████████████████████████       | 1.3 MB 7.5 MB/s eta 0:00:01\r\u001b[K     |█████████████████████████▎      | 1.3 MB 7.5 MB/s eta 0:00:01\r\u001b[K     |█████████████████████████▌      | 1.3 MB 7.5 MB/s eta 0:00:01\r\u001b[K     |█████████████████████████▊      | 1.3 MB 7.5 MB/s eta 0:00:01\r\u001b[K     |█████████████████████████▉      | 1.3 MB 7.5 MB/s eta 0:00:01\r\u001b[K     |██████████████████████████      | 1.4 MB 7.5 MB/s eta 0:00:01\r\u001b[K     |██████████████████████████▎     | 1.4 MB 7.5 MB/s eta 0:00:01\r\u001b[K     |██████████████████████████▌     | 1.4 MB 7.5 MB/s eta 0:00:01\r\u001b[K     |██████████████████████████▊     | 1.4 MB 7.5 MB/s eta 0:00:01\r\u001b[K     |██████████████████████████▉     | 1.4 MB 7.5 MB/s eta 0:00:01\r\u001b[K     |███████████████████████████     | 1.4 MB 7.5 MB/s eta 0:00:01\r\u001b[K     |███████████████████████████▎    | 1.4 MB 7.5 MB/s eta 0:00:01\r\u001b[K     |███████████████████████████▌    | 1.4 MB 7.5 MB/s eta 0:00:01\r\u001b[K     |███████████████████████████▋    | 1.4 MB 7.5 MB/s eta 0:00:01\r\u001b[K     |███████████████████████████▉    | 1.4 MB 7.5 MB/s eta 0:00:01\r\u001b[K     |████████████████████████████    | 1.5 MB 7.5 MB/s eta 0:00:01\r\u001b[K     |████████████████████████████▎   | 1.5 MB 7.5 MB/s eta 0:00:01\r\u001b[K     |████████████████████████████▌   | 1.5 MB 7.5 MB/s eta 0:00:01\r\u001b[K     |████████████████████████████▋   | 1.5 MB 7.5 MB/s eta 0:00:01\r\u001b[K     |████████████████████████████▉   | 1.5 MB 7.5 MB/s eta 0:00:01\r\u001b[K     |█████████████████████████████   | 1.5 MB 7.5 MB/s eta 0:00:01\r\u001b[K     |█████████████████████████████▎  | 1.5 MB 7.5 MB/s eta 0:00:01\r\u001b[K     |█████████████████████████████▍  | 1.5 MB 7.5 MB/s eta 0:00:01\r\u001b[K     |█████████████████████████████▋  | 1.5 MB 7.5 MB/s eta 0:00:01\r\u001b[K     |█████████████████████████████▉  | 1.5 MB 7.5 MB/s eta 0:00:01\r\u001b[K     |██████████████████████████████  | 1.6 MB 7.5 MB/s eta 0:00:01\r\u001b[K     |██████████████████████████████▎ | 1.6 MB 7.5 MB/s eta 0:00:01\r\u001b[K     |██████████████████████████████▍ | 1.6 MB 7.5 MB/s eta 0:00:01\r\u001b[K     |██████████████████████████████▋ | 1.6 MB 7.5 MB/s eta 0:00:01\r\u001b[K     |██████████████████████████████▉ | 1.6 MB 7.5 MB/s eta 0:00:01\r\u001b[K     |███████████████████████████████ | 1.6 MB 7.5 MB/s eta 0:00:01\r\u001b[K     |███████████████████████████████▏| 1.6 MB 7.5 MB/s eta 0:00:01\r\u001b[K     |███████████████████████████████▍| 1.6 MB 7.5 MB/s eta 0:00:01\r\u001b[K     |███████████████████████████████▋| 1.6 MB 7.5 MB/s eta 0:00:01\r\u001b[K     |███████████████████████████████▉| 1.6 MB 7.5 MB/s eta 0:00:01\r\u001b[K     |████████████████████████████████| 1.7 MB 7.5 MB/s \n",
            "\u001b[?25hRequirement already satisfied: pyarrow>=0.16.0 in /usr/local/lib/python3.7/dist-packages (from nlp) (3.0.0)\n",
            "Requirement already satisfied: requests>=2.19.0 in /usr/local/lib/python3.7/dist-packages (from nlp) (2.23.0)\n",
            "Requirement already satisfied: pandas in /usr/local/lib/python3.7/dist-packages (from nlp) (1.1.5)\n",
            "Requirement already satisfied: dill in /usr/local/lib/python3.7/dist-packages (from nlp) (0.3.4)\n",
            "Requirement already satisfied: tqdm>=4.27 in /usr/local/lib/python3.7/dist-packages (from nlp) (4.41.1)\n",
            "Collecting xxhash\n",
            "  Downloading xxhash-2.0.2-cp37-cp37m-manylinux2010_x86_64.whl (243 kB)\n",
            "\u001b[K     |████████████████████████████████| 243 kB 36.6 MB/s \n",
            "\u001b[?25hRequirement already satisfied: numpy in /usr/local/lib/python3.7/dist-packages (from nlp) (1.19.5)\n",
            "Requirement already satisfied: filelock in /usr/local/lib/python3.7/dist-packages (from nlp) (3.0.12)\n",
            "Requirement already satisfied: urllib3!=1.25.0,!=1.25.1,<1.26,>=1.21.1 in /usr/local/lib/python3.7/dist-packages (from requests>=2.19.0->nlp) (1.24.3)\n",
            "Requirement already satisfied: chardet<4,>=3.0.2 in /usr/local/lib/python3.7/dist-packages (from requests>=2.19.0->nlp) (3.0.4)\n",
            "Requirement already satisfied: idna<3,>=2.5 in /usr/local/lib/python3.7/dist-packages (from requests>=2.19.0->nlp) (2.10)\n",
            "Requirement already satisfied: certifi>=2017.4.17 in /usr/local/lib/python3.7/dist-packages (from requests>=2.19.0->nlp) (2021.5.30)\n",
            "Requirement already satisfied: python-dateutil>=2.7.3 in /usr/local/lib/python3.7/dist-packages (from pandas->nlp) (2.8.1)\n",
            "Requirement already satisfied: pytz>=2017.2 in /usr/local/lib/python3.7/dist-packages (from pandas->nlp) (2018.9)\n",
            "Requirement already satisfied: six>=1.5 in /usr/local/lib/python3.7/dist-packages (from python-dateutil>=2.7.3->pandas->nlp) (1.15.0)\n",
            "Installing collected packages: xxhash, nlp\n",
            "Successfully installed nlp-0.4.0 xxhash-2.0.2\n"
          ],
          "name": "stdout"
        }
      ]
    },
    {
      "cell_type": "code",
      "metadata": {
        "id": "Q-8M33wYpx04"
      },
      "source": [
        "%matplotlib inline\n",
        "\n",
        "import tensorflow as tf\n",
        "import pandas as pd\n",
        "import matplotlib.pyplot as plt\n",
        "import nlp\n",
        "import numpy as np"
      ],
      "execution_count": 2,
      "outputs": []
    },
    {
      "cell_type": "code",
      "metadata": {
        "colab": {
          "base_uri": "https://localhost:8080/",
          "height": 331,
          "referenced_widgets": [
            "ec844da696c54eddafa2a180c53aec2a",
            "6296a5aba2bd4485beeb72ecf093d9b4",
            "27c0444d58c34c489b4f52e03e736dbe",
            "0c44de1104b34c8891107e14b7fe7aef",
            "fb3d99cf836144bf9e98f9272735abd8",
            "4be147ee6e454ed2aa5f0af05db09cda",
            "f9f9ac42c7f8426db198b8e7c4af5203",
            "bef5337cbdcf4e17bdb67e3d2a7c5ce0",
            "da58078ec9654556a7565b476ebef3c3",
            "0d47ef24d1d44682a013494840ca8ae0",
            "81d4cfb7a30d40d0afe8b49950800ee9",
            "3b9fe6c6e7804195802a2e4d5c415869",
            "8e969f4e6da946ae9c7a7ab7e93423c6",
            "acf10c2b5b024fb5bf3ba041e461d732",
            "4fa312cfa3574381938adcbb5e601a87",
            "db3caf74c1d94b1a8041d1af8678e531",
            "952f232d062b406d921e4ccda5b6a672",
            "ba612bd3d64a47798d8bad3a5a20765b",
            "e3b403bf1dfb435ca2a662166103176a",
            "418cb15038e44c989c5a6e59b171758a",
            "ee9e726002fd4c4086b36425f46883a4",
            "f6714f2a05db453c83d7c3b85bba65ac",
            "98e0c0b3a6944e74979f1a2c47d8847e",
            "f6dc453dffd441738e4e08c00cbb54fd",
            "7d18ac3011624d97a3a1813f6e5818ef",
            "458a2a6f9aaa48baa2e1403ceb6dcc9d",
            "f826f2bff7644fdf8c6acf87cf5ca1cf",
            "7c7e6230de054c43a2e97222aad4bec6",
            "dfc6c475e80140ab830b126d35c551db",
            "0c6145a305e44d5182de7f47a0d0113c",
            "ada8d38ae0fd49cb92b0ff29bbbc5826",
            "1fdcd668593443c0abf4715d31a24845",
            "b75a9cd826c845d1bc56e835c60edc1a",
            "b9adbe34f8f04d95bcc0599083b289b0",
            "2621d04133d247e688e4e5d17ed9762a",
            "5bfc41e0321a43fb89a9f15598f7ca81",
            "738dda3780df4d17b4419d31d71d645e",
            "ded682cc21534c7d99b61cb573e5c8e3",
            "d3d7e2473b4f43e8bd49422a44bccce3",
            "49c07db977164fb3987f27d7238dd5bc",
            "a386df72dca04c7d8e75ab6351c5e6e8",
            "1b312ac8a11b4a65a7beb8d6f4b962dd",
            "6e75732d6f944a639a8fbaca17619be6",
            "2538f6da18cb4ccfbe2b8a558c3f240b",
            "2e4748520a4348248d2138d041e40275",
            "d3a13ba59ed9410eaab50b038d4c229a",
            "bef7ab0c970341138bbf71f3da2495fe",
            "a5786362df754a519f3e441d5f2174a1",
            "04cfcf1530e14fd2ba159e2a6baeab2d",
            "5d54869b556e43e090d487301b1e8ef5",
            "dc0aefd505154cf589b16e15c8288e5c",
            "595d5ff2c56d414fb43b97a5207562c9",
            "d15ffc239fa24e7ea7a7965be1cae5ee",
            "f078cb5f7d514cc6b28ddea49b2d961e",
            "67977a08861141f082033017b58f9ca0",
            "693d0df7fc214e85a0fe9947ee732123",
            "0c99357dbc324f2093bfe35e9c86909a",
            "4e778134f3434b9ca8ebd09d315e7bff",
            "40e5ef41d9494ebfb8bfe248022f84de",
            "33999cca998a49f7acc76b4a8ee738b6",
            "cf9cccb827544e91a8696fb1a07b89c0",
            "6b801d3b568b426884129e32b69d9f3d",
            "b28fdbd860944bc3a27c08a2a2002c51",
            "fdbbdc0dc5784514b365ae96056eb5fc"
          ]
        },
        "id": "VlMWsl6nqSRJ",
        "outputId": "e34c612b-3228-4db9-89a7-2fc4bf849d77"
      },
      "source": [
        "twitter_dataset = nlp.load_dataset('emotion')"
      ],
      "execution_count": 3,
      "outputs": [
        {
          "output_type": "display_data",
          "data": {
            "application/vnd.jupyter.widget-view+json": {
              "model_id": "ec844da696c54eddafa2a180c53aec2a",
              "version_minor": 0,
              "version_major": 2
            },
            "text/plain": [
              "HBox(children=(FloatProgress(value=0.0, description='Downloading', max=3406.0, style=ProgressStyle(description…"
            ]
          },
          "metadata": {
            "tags": []
          }
        },
        {
          "output_type": "stream",
          "text": [
            "\n"
          ],
          "name": "stdout"
        },
        {
          "output_type": "display_data",
          "data": {
            "application/vnd.jupyter.widget-view+json": {
              "model_id": "da58078ec9654556a7565b476ebef3c3",
              "version_minor": 0,
              "version_major": 2
            },
            "text/plain": [
              "HBox(children=(FloatProgress(value=0.0, description='Downloading', max=6011.0, style=ProgressStyle(description…"
            ]
          },
          "metadata": {
            "tags": []
          }
        },
        {
          "output_type": "stream",
          "text": [
            "Using custom data configuration default\n"
          ],
          "name": "stderr"
        },
        {
          "output_type": "stream",
          "text": [
            "\n",
            "Downloading and preparing dataset emotion/default (download: 1.97 MiB, generated: 2.09 MiB, post-processed: Unknown sizetotal: 4.06 MiB) to /root/.cache/huggingface/datasets/emotion/default/0.0.0/84e07cd366f4451464584cdbd4958f512bcaddb1e921341e07298ce8a9ce42f4...\n"
          ],
          "name": "stdout"
        },
        {
          "output_type": "display_data",
          "data": {
            "application/vnd.jupyter.widget-view+json": {
              "model_id": "952f232d062b406d921e4ccda5b6a672",
              "version_minor": 0,
              "version_major": 2
            },
            "text/plain": [
              "HBox(children=(FloatProgress(value=0.0, description='Downloading', max=1658616.0, style=ProgressStyle(descript…"
            ]
          },
          "metadata": {
            "tags": []
          }
        },
        {
          "output_type": "stream",
          "text": [
            "\n"
          ],
          "name": "stdout"
        },
        {
          "output_type": "display_data",
          "data": {
            "application/vnd.jupyter.widget-view+json": {
              "model_id": "7d18ac3011624d97a3a1813f6e5818ef",
              "version_minor": 0,
              "version_major": 2
            },
            "text/plain": [
              "HBox(children=(FloatProgress(value=0.0, description='Downloading', max=204240.0, style=ProgressStyle(descripti…"
            ]
          },
          "metadata": {
            "tags": []
          }
        },
        {
          "output_type": "stream",
          "text": [
            "\n"
          ],
          "name": "stdout"
        },
        {
          "output_type": "display_data",
          "data": {
            "application/vnd.jupyter.widget-view+json": {
              "model_id": "b75a9cd826c845d1bc56e835c60edc1a",
              "version_minor": 0,
              "version_major": 2
            },
            "text/plain": [
              "HBox(children=(FloatProgress(value=0.0, description='Downloading', max=206760.0, style=ProgressStyle(descripti…"
            ]
          },
          "metadata": {
            "tags": []
          }
        },
        {
          "output_type": "stream",
          "text": [
            "\n"
          ],
          "name": "stdout"
        },
        {
          "output_type": "display_data",
          "data": {
            "application/vnd.jupyter.widget-view+json": {
              "model_id": "a386df72dca04c7d8e75ab6351c5e6e8",
              "version_minor": 0,
              "version_major": 2
            },
            "text/plain": [
              "HBox(children=(FloatProgress(value=1.0, bar_style='info', max=1.0), HTML(value='')))"
            ]
          },
          "metadata": {
            "tags": []
          }
        },
        {
          "output_type": "stream",
          "text": [
            "\r"
          ],
          "name": "stdout"
        },
        {
          "output_type": "display_data",
          "data": {
            "application/vnd.jupyter.widget-view+json": {
              "model_id": "04cfcf1530e14fd2ba159e2a6baeab2d",
              "version_minor": 0,
              "version_major": 2
            },
            "text/plain": [
              "HBox(children=(FloatProgress(value=1.0, bar_style='info', max=1.0), HTML(value='')))"
            ]
          },
          "metadata": {
            "tags": []
          }
        },
        {
          "output_type": "stream",
          "text": [
            "\r"
          ],
          "name": "stdout"
        },
        {
          "output_type": "display_data",
          "data": {
            "application/vnd.jupyter.widget-view+json": {
              "model_id": "0c99357dbc324f2093bfe35e9c86909a",
              "version_minor": 0,
              "version_major": 2
            },
            "text/plain": [
              "HBox(children=(FloatProgress(value=1.0, bar_style='info', max=1.0), HTML(value='')))"
            ]
          },
          "metadata": {
            "tags": []
          }
        },
        {
          "output_type": "stream",
          "text": [
            "\rDataset emotion downloaded and prepared to /root/.cache/huggingface/datasets/emotion/default/0.0.0/84e07cd366f4451464584cdbd4958f512bcaddb1e921341e07298ce8a9ce42f4. Subsequent calls will reuse this data.\n"
          ],
          "name": "stdout"
        }
      ]
    },
    {
      "cell_type": "code",
      "metadata": {
        "colab": {
          "base_uri": "https://localhost:8080/"
        },
        "id": "-DQG0xLEsfPI",
        "outputId": "d57de1f8-ea7d-4e7b-d8c4-00c8e593c278"
      },
      "source": [
        "twitter_dataset #The dataset is already split into train, test and validation sets"
      ],
      "execution_count": 4,
      "outputs": [
        {
          "output_type": "execute_result",
          "data": {
            "text/plain": [
              "{'test': Dataset(features: {'text': Value(dtype='string', id=None), 'label': Value(dtype='string', id=None)}, num_rows: 2000),\n",
              " 'train': Dataset(features: {'text': Value(dtype='string', id=None), 'label': Value(dtype='string', id=None)}, num_rows: 16000),\n",
              " 'validation': Dataset(features: {'text': Value(dtype='string', id=None), 'label': Value(dtype='string', id=None)}, num_rows: 2000)}"
            ]
          },
          "metadata": {
            "tags": []
          },
          "execution_count": 4
        }
      ]
    },
    {
      "cell_type": "code",
      "metadata": {
        "id": "HyTliZ4Tshd1"
      },
      "source": [
        "train_data=twitter_dataset[\"train\"]\n",
        "test_data=twitter_dataset[\"test\"]\n",
        "val_data=twitter_dataset[\"validation\"]"
      ],
      "execution_count": 5,
      "outputs": []
    },
    {
      "cell_type": "code",
      "metadata": {
        "id": "hCZfBNfWvcel"
      },
      "source": [
        "train_text=train_data['text']\n",
        "train_labels=train_data['label']\n",
        "test_text=test_data['text']\n",
        "test_labels=test_data['label']\n",
        "val_text=val_data['text']\n",
        "val_labels=val_data['label']"
      ],
      "execution_count": 6,
      "outputs": []
    },
    {
      "cell_type": "code",
      "metadata": {
        "colab": {
          "base_uri": "https://localhost:8080/"
        },
        "id": "5Otxo2Zzvm5C",
        "outputId": "0b0df40b-0f37-433c-91cf-3f1d0fc0a25c"
      },
      "source": [
        "(train_text[2], train_labels[2])"
      ],
      "execution_count": 7,
      "outputs": [
        {
          "output_type": "execute_result",
          "data": {
            "text/plain": [
              "('im grabbing a minute to post i feel greedy wrong', 'anger')"
            ]
          },
          "metadata": {
            "tags": []
          },
          "execution_count": 7
        }
      ]
    },
    {
      "cell_type": "code",
      "metadata": {
        "id": "ndsCJ6JzwR5S"
      },
      "source": [
        "from tensorflow.keras.preprocessing.text import Tokenizer\n",
        "from tensorflow.keras.preprocessing.sequence import pad_sequences\n",
        "\n",
        "token=Tokenizer(num_words=12000, oov_token=\"<UNK>\")\n",
        "token.fit_on_texts(train_text)"
      ],
      "execution_count": 8,
      "outputs": []
    },
    {
      "cell_type": "code",
      "metadata": {
        "id": "GjXevjXwyxEM"
      },
      "source": [
        "def text_to_seq(text):\n",
        "  seq=token.texts_to_sequences(text)\n",
        "  return seq"
      ],
      "execution_count": 9,
      "outputs": []
    },
    {
      "cell_type": "code",
      "metadata": {
        "id": "GqXZs3T0qsGe"
      },
      "source": [
        ""
      ],
      "execution_count": 9,
      "outputs": []
    },
    {
      "cell_type": "code",
      "metadata": {
        "id": "QRevgmAgzSxa"
      },
      "source": [
        "### CALLING ALL THE FUNCTIONS TO GET TRAIN, TEST, VAL SEQUENCES\n",
        "\n",
        "train_seq=text_to_seq(train_text)\n",
        "test_seq=text_to_seq(test_text)\n",
        "val_seq=text_to_seq(val_text)"
      ],
      "execution_count": 10,
      "outputs": []
    },
    {
      "cell_type": "code",
      "metadata": {
        "colab": {
          "base_uri": "https://localhost:8080/"
        },
        "id": "3phUBHoVz2g5",
        "outputId": "be16d84d-cfbc-403b-86da-6705517f1fed"
      },
      "source": [
        "#CHECKING IF THE SEQUENCES ARE CORRECT\n",
        "print(train_seq[1])   \n",
        "print(train_text[1])\n",
        "print(test_seq[1])   \n",
        "print(test_text[1])\n",
        "print(val_seq[1])   \n",
        "print(val_text[1])"
      ],
      "execution_count": 11,
      "outputs": [
        {
          "output_type": "stream",
          "text": [
            "[2, 40, 101, 60, 8, 15, 494, 5, 15, 3496, 553, 32, 60, 61, 128, 148, 76, 1480, 4, 22, 1255]\n",
            "i can go from feeling so hopeless to so damned hopeful just from being around someone who cares and is awake\n",
            "[17, 1, 11, 243, 37, 2, 3, 469]\n",
            "im updating my blog because i feel shitty\n",
            "[2, 3, 14, 2, 24, 72, 253, 33, 7, 618, 2743, 618, 1418, 10, 1104]\n",
            "i feel like i am still looking at a blank canvas blank pieces of paper\n"
          ],
          "name": "stdout"
        }
      ]
    },
    {
      "cell_type": "code",
      "metadata": {
        "id": "zRZTG_SN2LYJ"
      },
      "source": [
        "len_t=[(np.array(tex.split()).shape[0]) for tex in train_text]"
      ],
      "execution_count": 12,
      "outputs": []
    },
    {
      "cell_type": "code",
      "metadata": {
        "colab": {
          "base_uri": "https://localhost:8080/",
          "height": 265
        },
        "id": "tF5PuP4M0eDg",
        "outputId": "f9d4642a-abfa-4341-b598-bcccd0ce3825"
      },
      "source": [
        "# CODE BLOCK FOR PADDING OF THE SEQUENCES\n",
        "# FIRST DECIDING HOW MANY WORDS TO TAKE FORM THE ORIGIAL SENTENCES\n",
        "\n",
        "plt.hist(len_t, bins=np.array(len_t).max()-1)\n",
        "plt.show()"
      ],
      "execution_count": 13,
      "outputs": [
        {
          "output_type": "display_data",
          "data": {
            "image/png": "[encoded data removed]",
            "text/plain": [
              "<Figure size 432x288 with 1 Axes>"
            ]
          },
          "metadata": {
            "tags": [],
            "needs_background": "light"
          }
        }
      ]
    },
    {
      "cell_type": "markdown",
      "metadata": {
        "id": "wBde2IQI7780"
      },
      "source": [
        "### AFTER OBSERVING THAT MOST OF THE TWEETS ARE HAVING LENGTH LESS THAT 55 WORDS ###"
      ]
    },
    {
      "cell_type": "code",
      "metadata": {
        "id": "uuKoahrm1uqu"
      },
      "source": [
        "max_len=55\n",
        "train_padded=pad_sequences(train_seq, maxlen=max_len, padding='post', truncating='pre')\n",
        "test_padded=pad_sequences(test_seq, maxlen=max_len, padding='post', truncating='pre')\n",
        "val_padded=pad_sequences(val_seq, maxlen=max_len, padding='post', truncating='pre')"
      ],
      "execution_count": 14,
      "outputs": []
    },
    {
      "cell_type": "code",
      "metadata": {
        "colab": {
          "base_uri": "https://localhost:8080/"
        },
        "id": "zcuMOLOY8jT0",
        "outputId": "b5ee954b-bfe0-4a61-9098-55de38780806"
      },
      "source": [
        "train_padded[1]"
      ],
      "execution_count": 15,
      "outputs": [
        {
          "output_type": "execute_result",
          "data": {
            "text/plain": [
              "array([   2,   40,  101,   60,    8,   15,  494,    5,   15, 3496,  553,\n",
              "         32,   60,   61,  128,  148,   76, 1480,    4,   22, 1255,    0,\n",
              "          0,    0,    0,    0,    0,    0,    0,    0,    0,    0,    0,\n",
              "          0,    0,    0,    0,    0,    0,    0,    0,    0,    0,    0,\n",
              "          0,    0,    0,    0,    0,    0,    0,    0,    0,    0,    0],\n",
              "      dtype=int32)"
            ]
          },
          "metadata": {
            "tags": []
          },
          "execution_count": 15
        }
      ]
    },
    {
      "cell_type": "code",
      "metadata": {
        "id": "v5xMFml-CNcJ"
      },
      "source": [
        "# MAKING THE LABELS\n",
        "label=dict((c,i) for (i,c) in enumerate(set(train_labels)))\n",
        "label2=dict((i,c) for (i,c) in enumerate(set(train_labels)))\n",
        "train_label=np.array([label.get(num) for num in train_labels])\n",
        "test_label=np.array([label.get(num) for num in (test_labels)])\n",
        "val_label=np.array([label.get(num) for num in (val_labels)])"
      ],
      "execution_count": 16,
      "outputs": []
    },
    {
      "cell_type": "code",
      "metadata": {
        "colab": {
          "base_uri": "https://localhost:8080/"
        },
        "id": "0ZpWJWWSFQSf",
        "outputId": "87b6b1e9-b77f-4105-94f2-619b93475fb3"
      },
      "source": [
        "label"
      ],
      "execution_count": 17,
      "outputs": [
        {
          "output_type": "execute_result",
          "data": {
            "text/plain": [
              "{'anger': 2, 'fear': 3, 'joy': 5, 'love': 0, 'sadness': 1, 'surprise': 4}"
            ]
          },
          "metadata": {
            "tags": []
          },
          "execution_count": 17
        }
      ]
    },
    {
      "cell_type": "code",
      "metadata": {
        "colab": {
          "base_uri": "https://localhost:8080/"
        },
        "id": "W3FJsOLaFMvZ",
        "outputId": "c13e846b-5a9e-4449-febc-ab02eff8dee2"
      },
      "source": [
        "(train_text[2], train_labels[2], train_label[2])"
      ],
      "execution_count": 18,
      "outputs": [
        {
          "output_type": "execute_result",
          "data": {
            "text/plain": [
              "('im grabbing a minute to post i feel greedy wrong', 'anger', 2)"
            ]
          },
          "metadata": {
            "tags": []
          },
          "execution_count": 18
        }
      ]
    },
    {
      "cell_type": "code",
      "metadata": {
        "id": "dVNrZcVo9AJq"
      },
      "source": [
        "# DEFINING THE ACTUAL MDOEL\n",
        "\n",
        "from tensorflow.keras.models import Sequential\n",
        "from tensorflow.keras.layers import Dense, LSTM, Embedding, Bidirectional\n",
        "\n",
        "model=Sequential([\n",
        "                  Embedding(12000,64, input_length=max_len),\n",
        "                  Bidirectional(LSTM(64, return_sequences=True)),\n",
        "                  Bidirectional(LSTM(64, return_sequences= True)),\n",
        "                  Bidirectional(LSTM(64, dropout=0.05 )),\n",
        "                  Dense(6, activation='softmax')\n",
        "])\n",
        "model.compile(metrics='accuracy', loss='sparse_categorical_crossentropy', )"
      ],
      "execution_count": 43,
      "outputs": []
    },
    {
      "cell_type": "code",
      "metadata": {
        "colab": {
          "base_uri": "https://localhost:8080/"
        },
        "id": "TK-3rfiNuay6",
        "outputId": "c51d70d9-16fd-451b-b648-8a6c0668f904"
      },
      "source": [
        "model.summary()"
      ],
      "execution_count": 44,
      "outputs": [
        {
          "output_type": "stream",
          "text": [
            "Model: \"sequential_1\"\n",
            "_________________________________________________________________\n",
            "Layer (type)                 Output Shape              Param #   \n",
            "=================================================================\n",
            "embedding_1 (Embedding)      (None, 55, 64)            768000    \n",
            "_________________________________________________________________\n",
            "bidirectional_3 (Bidirection (None, 55, 128)           66048     \n",
            "_________________________________________________________________\n",
            "bidirectional_4 (Bidirection (None, 55, 128)           98816     \n",
            "_________________________________________________________________\n",
            "bidirectional_5 (Bidirection (None, 128)               98816     \n",
            "_________________________________________________________________\n",
            "dense_1 (Dense)              (None, 6)                 774       \n",
            "=================================================================\n",
            "Total params: 1,032,454\n",
            "Trainable params: 1,032,454\n",
            "Non-trainable params: 0\n",
            "_________________________________________________________________\n"
          ],
          "name": "stdout"
        }
      ]
    },
    {
      "cell_type": "code",
      "metadata": {
        "colab": {
          "base_uri": "https://localhost:8080/"
        },
        "id": "avNFUrtZ9gpq",
        "outputId": "cfdaf132-9977-4427-e1ed-834917370e18"
      },
      "source": [
        "#TRAINING THE MODEL\n",
        "\n",
        "his=model.fit(train_padded, train_label, validation_data=(val_padded, val_label), epochs=10)"
      ],
      "execution_count": 46,
      "outputs": [
        {
          "output_type": "stream",
          "text": [
            "Epoch 1/10\n",
            "500/500 [==============================] - 18s 29ms/step - loss: 1.1025 - accuracy: 0.5834 - val_loss: 0.5693 - val_accuracy: 0.8045\n",
            "Epoch 2/10\n",
            "500/500 [==============================] - 12s 25ms/step - loss: 0.4086 - accuracy: 0.8619 - val_loss: 0.3416 - val_accuracy: 0.8960\n",
            "Epoch 3/10\n",
            "500/500 [==============================] - 12s 25ms/step - loss: 0.2515 - accuracy: 0.9135 - val_loss: 0.2471 - val_accuracy: 0.9175\n",
            "Epoch 4/10\n",
            "500/500 [==============================] - 13s 26ms/step - loss: 0.1860 - accuracy: 0.9318 - val_loss: 0.2260 - val_accuracy: 0.9255\n",
            "Epoch 5/10\n",
            "500/500 [==============================] - 13s 27ms/step - loss: 0.1561 - accuracy: 0.9411 - val_loss: 0.2213 - val_accuracy: 0.9215\n",
            "Epoch 6/10\n",
            "500/500 [==============================] - 12s 25ms/step - loss: 0.1348 - accuracy: 0.9503 - val_loss: 0.2131 - val_accuracy: 0.9220\n",
            "Epoch 7/10\n",
            "500/500 [==============================] - 12s 24ms/step - loss: 0.1173 - accuracy: 0.9552 - val_loss: 0.2223 - val_accuracy: 0.9240\n",
            "Epoch 8/10\n",
            "500/500 [==============================] - 12s 24ms/step - loss: 0.1007 - accuracy: 0.9621 - val_loss: 0.2516 - val_accuracy: 0.9175\n",
            "Epoch 9/10\n",
            "500/500 [==============================] - 13s 26ms/step - loss: 0.0918 - accuracy: 0.9671 - val_loss: 0.2365 - val_accuracy: 0.9220\n",
            "Epoch 10/10\n",
            "500/500 [==============================] - 13s 27ms/step - loss: 0.0875 - accuracy: 0.9685 - val_loss: 0.2596 - val_accuracy: 0.9180\n"
          ],
          "name": "stdout"
        }
      ]
    },
    {
      "cell_type": "code",
      "metadata": {
        "colab": {
          "base_uri": "https://localhost:8080/"
        },
        "id": "dPmMniU7KZ0k",
        "outputId": "20e7c78a-567d-474d-fb0f-8222617767c2"
      },
      "source": [
        "from google.colab import drive\n",
        "drive.mount('/content/gdrive')"
      ],
      "execution_count": 32,
      "outputs": [
        {
          "output_type": "stream",
          "text": [
            "Drive already mounted at /content/gdrive; to attempt to forcibly remount, call drive.mount(\"/content/gdrive\", force_remount=True).\n"
          ],
          "name": "stdout"
        }
      ]
    },
    {
      "cell_type": "code",
      "metadata": {
        "id": "GVchKclhKSU7"
      },
      "source": [
        "#model.save_weights(\"/content/gdrive/MyDrive/kaggle/emotion_1/my_model\")"
      ],
      "execution_count": 28,
      "outputs": []
    },
    {
      "cell_type": "code",
      "metadata": {
        "id": "FxFwOWcvuV-t"
      },
      "source": [
        "#model.load_weights(\"/content/gdrive/MyDrive/kaggle/emotion_1/my_model\")"
      ],
      "execution_count": 33,
      "outputs": []
    },
    {
      "cell_type": "code",
      "metadata": {
        "colab": {
          "base_uri": "https://localhost:8080/"
        },
        "id": "cOpsC6CCueBA",
        "outputId": "cec535b0-323c-4e2d-d9b7-080be0cc0436"
      },
      "source": [
        "model.evaluate(train_padded, train_label)"
      ],
      "execution_count": 47,
      "outputs": [
        {
          "output_type": "stream",
          "text": [
            "500/500 [==============================] - 6s 9ms/step - loss: 0.0609 - accuracy: 0.9769\n"
          ],
          "name": "stdout"
        },
        {
          "output_type": "execute_result",
          "data": {
            "text/plain": [
              "[0.06090499833226204, 0.976937472820282]"
            ]
          },
          "metadata": {
            "tags": []
          },
          "execution_count": 47
        }
      ]
    },
    {
      "cell_type": "code",
      "metadata": {
        "colab": {
          "base_uri": "https://localhost:8080/",
          "height": 392
        },
        "id": "rMYzrUqGG3ht",
        "outputId": "81b4c160-0e50-4070-eea1-7539940382ba"
      },
      "source": [
        "\n",
        "plt.figure(figsize=(16, 6))\n",
        "\n",
        "plt.plot(his.history.get('accuracy'), label='Training')\n",
        "plt.plot(his.history.get('val_accuracy'), label='Validation')\n",
        "plt.ylim([0., 1.])\n",
        "plt.xlabel('Epochs')\n",
        "plt.ylabel('Accuracy')\n",
        "plt.legend()\n",
        "plt.show()\n",
        "\n",
        "\n"
      ],
      "execution_count": 48,
      "outputs": [
        {
          "output_type": "display_data",
          "data": {
            "image/png": "[encoded data removed]",
            "text/plain": [
              "<Figure size 1152x432 with 1 Axes>"
            ]
          },
          "metadata": {
            "tags": [],
            "needs_background": "light"
          }
        }
      ]
    },
    {
      "cell_type": "code",
      "metadata": {
        "colab": {
          "base_uri": "https://localhost:8080/",
          "height": 388
        },
        "id": "ep6OuQWo7Dbh",
        "outputId": "9f608d05-9bc9-4665-a670-f9d2d3519109"
      },
      "source": [
        "plt.figure(figsize=(16, 6))\n",
        "\n",
        "plt.plot(his.history.get('loss'), label='Training')\n",
        "plt.plot(his.history.get('val_loss'), label='Validation')\n",
        "plt.xlabel('Epochs')\n",
        "plt.ylabel('Loss')\n",
        "plt.legend()\n",
        "plt.show()\n",
        "\n"
      ],
      "execution_count": 49,
      "outputs": [
        {
          "output_type": "display_data",
          "data": {
            "image/png": "[encoded data removed]",
            "text/plain": [
              "<Figure size 1152x432 with 1 Axes>"
            ]
          },
          "metadata": {
            "tags": [],
            "needs_background": "light"
          }
        }
      ]
    },
    {
      "cell_type": "code",
      "metadata": {
        "colab": {
          "base_uri": "https://localhost:8080/"
        },
        "id": "wqhU9SbYKRjW",
        "outputId": "2b007acd-b667-4f7a-9db4-dd63ca6f5ffe"
      },
      "source": [
        "model.evaluate(test_padded, test_label)"
      ],
      "execution_count": 50,
      "outputs": [
        {
          "output_type": "stream",
          "text": [
            "63/63 [==============================] - 1s 10ms/step - loss: 0.2532 - accuracy: 0.9140\n"
          ],
          "name": "stdout"
        },
        {
          "output_type": "execute_result",
          "data": {
            "text/plain": [
              "[0.25324976444244385, 0.9139999747276306]"
            ]
          },
          "metadata": {
            "tags": []
          },
          "execution_count": 50
        }
      ]
    },
    {
      "cell_type": "code",
      "metadata": {
        "id": "eWcORnQj_ZAk"
      },
      "source": [
        "## FUNCTION FOR CUSTOM TEXT PREDICTION\n",
        "def predict(text):\n",
        "  token.fit_on_texts(text)\n",
        "  text_seq=text_to_seq([text])\n",
        "  text_padded=pad_sequences(text_seq, maxlen=max_len, padding='post', truncating='pre')\n",
        "  p=model.predict(text_padded)\n",
        "  pred=label2.get(np.argmax(p))\n",
        "  return pred"
      ],
      "execution_count": 51,
      "outputs": []
    },
    {
      "cell_type": "code",
      "metadata": {
        "id": "4ShyCGmhMdKa",
        "colab": {
          "base_uri": "https://localhost:8080/"
        },
        "outputId": "a35b4ece-34c9-46b7-a14b-1f698696707b"
      },
      "source": [
        "# TESTING ON OUR OWN TEXT\n",
        "text=\"dogs are cute\"\n",
        "print(\"THE PREDICTED EMOTION IS : {}\".format(predict(text)))"
      ],
      "execution_count": 52,
      "outputs": [
        {
          "output_type": "stream",
          "text": [
            "THE PREDICTED EMOTION IS : joy\n"
          ],
          "name": "stdout"
        }
      ]
    },
    {
      "cell_type": "markdown",
      "metadata": {
        "id": "SW-pYLTy5sHs"
      },
      "source": [
        "### STREAMING THE TWEETS USING TWITTER API ###"
      ]
    },
    {
      "cell_type": "code",
      "metadata": {
        "colab": {
          "base_uri": "https://localhost:8080/"
        },
        "id": "dcp0Gbmn6YoJ",
        "outputId": "1aef1979-fe4b-47be-99da-544fccd2da97"
      },
      "source": [
        "!pip install emoji\n"
      ],
      "execution_count": 57,
      "outputs": [
        {
          "output_type": "stream",
          "text": [
            "Collecting emoji\n",
            "  Downloading emoji-1.4.1.tar.gz (185 kB)\n",
            "\u001b[?25l\r\u001b[K     |█▊                              | 10 kB 37.4 MB/s eta 0:00:01\r\u001b[K     |███▌                            | 20 kB 29.2 MB/s eta 0:00:01\r\u001b[K     |█████▎                          | 30 kB 18.7 MB/s eta 0:00:01\r\u001b[K     |███████                         | 40 kB 15.6 MB/s eta 0:00:01\r\u001b[K     |████████▉                       | 51 kB 8.6 MB/s eta 0:00:01\r\u001b[K     |██████████▋                     | 61 kB 8.6 MB/s eta 0:00:01\r\u001b[K     |████████████▍                   | 71 kB 9.1 MB/s eta 0:00:01\r\u001b[K     |██████████████▏                 | 81 kB 9.3 MB/s eta 0:00:01\r\u001b[K     |████████████████                | 92 kB 9.5 MB/s eta 0:00:01\r\u001b[K     |█████████████████▊              | 102 kB 9.8 MB/s eta 0:00:01\r\u001b[K     |███████████████████▌            | 112 kB 9.8 MB/s eta 0:00:01\r\u001b[K     |█████████████████████▎          | 122 kB 9.8 MB/s eta 0:00:01\r\u001b[K     |███████████████████████         | 133 kB 9.8 MB/s eta 0:00:01\r\u001b[K     |████████████████████████▉       | 143 kB 9.8 MB/s eta 0:00:01\r\u001b[K     |██████████████████████████▌     | 153 kB 9.8 MB/s eta 0:00:01\r\u001b[K     |████████████████████████████▎   | 163 kB 9.8 MB/s eta 0:00:01\r\u001b[K     |██████████████████████████████  | 174 kB 9.8 MB/s eta 0:00:01\r\u001b[K     |███████████████████████████████▉| 184 kB 9.8 MB/s eta 0:00:01\r\u001b[K     |████████████████████████████████| 185 kB 9.8 MB/s \n",
            "\u001b[?25hBuilding wheels for collected packages: emoji\n",
            "  Building wheel for emoji (setup.py) ... \u001b[?25l\u001b[?25hdone\n",
            "  Created wheel for emoji: filename=emoji-1.4.1-py3-none-any.whl size=186393 sha256=2ea81cf80e0a61d240e5ee17a37ef01d0f1dc20daf0bdb199fa046514cd77c9e\n",
            "  Stored in directory: /root/.cache/pip/wheels/8e/68/ac/537456a5331f1405779f2b3c2a578429d2f6d7419e440330d8\n",
            "Successfully built emoji\n",
            "Installing collected packages: emoji\n",
            "Successfully installed emoji-1.4.1\n"
          ],
          "name": "stdout"
        }
      ]
    },
    {
      "cell_type": "code",
      "metadata": {
        "colab": {
          "base_uri": "https://localhost:8080/"
        },
        "id": "atU7zEwm3wU7",
        "outputId": "856ae8e8-b405-4a31-a28e-4429e3d688a9"
      },
      "source": [
        "# MAKING THE NECESSARY IMPORTS\n",
        "import os\n",
        "import tweepy as tw\n",
        "import pandas as pd\n",
        "import pandas as pd\n",
        "import re\n",
        "import emoji\n",
        "import nltk\n",
        "nltk.download('words')\n",
        "words = set(nltk.corpus.words.words())\n",
        "\n",
        "# THESE KEYS WILL BE AVAILABLE IN THE TWITTER DEVELOPER ACCOUNT\n",
        "\n",
        "consumer_key=\"QSYgnBReKVesOtrIhbdYPNWSs\"\n",
        "consumer_secret=\"RHL8lhTBhemstAMoQR1cSuSNFPBZWGuW4A6K5nB9TDLptI3QkJ\"\n",
        "access_token=\"1418540234929676291-1c0HrVBQDvnN0ycMiuQvhD7gtcwbgs\"\n",
        "access_token_secret=\"dGW1e4VJwalraRvux73FYGDkqqhln5DHtHvYj8lQJCKwh\"\n",
        "\n",
        "auth = tw.OAuthHandler(consumer_key, consumer_secret)\n",
        "auth.set_access_token(access_token, access_token_secret)\n",
        "api = tw.API(auth, wait_on_rate_limit=True)\n"
      ],
      "execution_count": 58,
      "outputs": [
        {
          "output_type": "stream",
          "text": [
            "[nltk_data] Downloading package words to /root/nltk_data...\n",
            "[nltk_data]   Unzipping corpora/words.zip.\n"
          ],
          "name": "stdout"
        }
      ]
    },
    {
      "cell_type": "markdown",
      "metadata": {
        "id": "bdbzH5oc6cua"
      },
      "source": [
        "### SEARCHING FOR TWEETS CONTAINING \"THE\" & CLEANING THE TWEET DATASET\n",
        "Removing special symbols like @, removing https links, removing hashtags etc"
      ]
    },
    {
      "cell_type": "code",
      "metadata": {
        "id": "H5mOvRe66XTl"
      },
      "source": [
        "# FOR CLEANING AND GETTING TWEET DATA\n",
        "new_search = \"NEWS\"\n",
        "date_since = \"2010-11-16\"\n",
        "tweets = tw.Cursor(api.search,\n",
        "              q=new_search,\n",
        "              lang=\"en\",\n",
        "              since=date_since).items(10)\n",
        "def cleaner(tweet):\n",
        "    tweet = re.sub(\"@[A-Za-z0-9]+\",\"\",tweet) \n",
        "    tweet = re.sub(r\"(:?:\\@|http?\\://|https?\\://|www)\\S+\", \"\", tweet) \n",
        "    tweet = \" \".join(tweet.split())\n",
        "    tweet = ''.join(c for c in tweet if c not in emoji.UNICODE_EMOJI) \n",
        "    tweet = tweet.replace(\"#\", \"\").replace(\"_\", \" \") \n",
        "    tweet = \" \".join(w for w in nltk.wordpunct_tokenize(tweet) \\\n",
        "         if w.lower() in words or not w.isalpha())\n",
        "    return tweet"
      ],
      "execution_count": 70,
      "outputs": []
    },
    {
      "cell_type": "code",
      "metadata": {
        "colab": {
          "base_uri": "https://localhost:8080/"
        },
        "id": "Q6oI37Sn-Ztz",
        "outputId": "dbe6214f-1d08-47cb-e976-fa53212a057b"
      },
      "source": [
        "# STORING THE ORIGINAL TWEETS IN array_org\n",
        "array_org=[]\n",
        "for tweet in tweets:\n",
        "    array_org.append((tweet.text))\n",
        "\n",
        "array_org"
      ],
      "execution_count": 71,
      "outputs": [
        {
          "output_type": "execute_result",
          "data": {
            "text/plain": [
              "['RT @Shubham_fd: Fake News Alert. A full report will come on @PoliticoNeo @FDikhana',\n",
              " 'RT @KingMntungwa: Breaking News 📰 :\\n\\nLarry Swart says Cyril Ramaphosa paid DCJ Zondo 50 Million to Arrest Pres Jacob Zuma. (Apparently) htt…',\n",
              " '@FibonacciNature @KeithGullis @Richieybh @SkyNews Sure, talk all the rubbish you want bud, he’s still said and it’s still news. Suck it up!',\n",
              " 'RT @billboard: BTS\\' \"Permission to Dance\" is the most popular song in the world, hitting No. 1 on the Billboard Global Charts. \\nhttps://t.c…',\n",
              " '@ScottMorrisonMP Supportive like this? \\n\\nhttps://t.co/7DRmBGey2B',\n",
              " 'Jim Iyke Reveals How He Almost Sold His\\xa0Soul https://t.co/xelGwFMxLK',\n",
              " 'RT @Himansh31018718: #GodMorningThursday\\n#thursdaymorning \\n#मांसखाना_अल्लाहका_हुक्मनहीं\\nSTOP Eating Meat God has laid down the rule that al…',\n",
              " \"@dbn_lifestyle I don't watch news at all but ngeke ungitshele about anything when it come to current affairs and zo… https://t.co/YHCF4loyTU\",\n",
              " \"RT @SBSNews: The federal government has praised the UN World Heritage Committee's decision to avoid adding the Great Barrier Reef to its li…\",\n",
              " 'RT @HWistrich: More male violence under conditions of Covid - any opportunity! https://t.co/YBeup772pZ']"
            ]
          },
          "metadata": {
            "tags": []
          },
          "execution_count": 71
        }
      ]
    },
    {
      "cell_type": "code",
      "metadata": {
        "id": "wb-wBGXIA4gR",
        "colab": {
          "base_uri": "https://localhost:8080/"
        },
        "outputId": "7a49d109-6699-4021-df19-3ddb64854266"
      },
      "source": [
        "# STORING THE CLEANED TWEETS IN array_org\n",
        "array=[]\n",
        "for arr in array_org:\n",
        "    array.append(cleaner(arr))\n",
        "array"
      ],
      "execution_count": 72,
      "outputs": [
        {
          "output_type": "execute_result",
          "data": {
            "text/plain": [
              "[': Fake News Alert . A full report will come on',\n",
              " ': Breaking News 📰 : Larry Swart 50 Million to Arrest . ( Apparently ) …',\n",
              " 'Sure , talk all the rubbish you want bud , he ’ s still said and it ’ s still news . Suck it up !',\n",
              " ': \\' \" Permission to Dance \" is the most popular song in the world , No . 1 on the Billboard Global .',\n",
              " 'Supportive like this ?',\n",
              " 'How He Almost Sold His Soul',\n",
              " ': ां ा ा ् ा ा ु ् ीं STOP Eating Meat God laid down the rule that al …',\n",
              " \"I don ' t watch news at all but about anything when it come to current and zo …\",\n",
              " \": The federal government the UN World Heritage Committee ' s decision to avoid the Great Barrier Reef to its li …\",\n",
              " ': More male violence under of Covid - any opportunity !']"
            ]
          },
          "metadata": {
            "tags": []
          },
          "execution_count": 72
        }
      ]
    },
    {
      "cell_type": "code",
      "metadata": {
        "colab": {
          "base_uri": "https://localhost:8080/"
        },
        "id": "AN1Gh0vO-ohZ",
        "outputId": "330dd5b5-08be-4e3c-ca9c-e50c30b63e15"
      },
      "source": [
        "#i=np.random.randint(10)\n",
        "i=\n",
        "print(\"ORIGINAL TWEET : {}\\n\".format(array_org[i]))\n",
        "print(\"PREDICTED EMOTION OF THE TWEET : '{}' is = {}\".format(array[i], predict(array[i])))"
      ],
      "execution_count": 74,
      "outputs": [
        {
          "output_type": "stream",
          "text": [
            "ORIGINAL TWEET : @ScottMorrisonMP Supportive like this? \n",
            "\n",
            "https://t.co/7DRmBGey2B\n",
            "\n",
            "PREDICTED EMOTION OF THE TWEET : 'Supportive like this ?' is = surprise\n"
          ],
          "name": "stdout"
        }
      ]
    },
    {
      "cell_type": "code",
      "metadata": {
        "id": "amLQZ5wXd1cG"
      },
      "source": [
        ""
      ],
      "execution_count": 73,
      "outputs": []
    }
  ]
}